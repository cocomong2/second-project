{
 "cells": [
  {
   "cell_type": "code",
   "execution_count": 85,
   "metadata": {},
   "outputs": [],
   "source": [
    "import pandas as pd\n",
    "import numpy as np\n",
    "import matplotlib.pyplot as plt\n",
    "import seaborn as sns"
   ]
  },
  {
   "cell_type": "code",
   "execution_count": 86,
   "metadata": {},
   "outputs": [],
   "source": [
    "filtered_cabbage_df = pd.read_csv(\"data-files/merged_df.csv\")"
   ]
  },
  {
   "cell_type": "code",
   "execution_count": 87,
   "metadata": {},
   "outputs": [
    {
     "data": {
      "text/html": [
       "<div>\n",
       "<style scoped>\n",
       "    .dataframe tbody tr th:only-of-type {\n",
       "        vertical-align: middle;\n",
       "    }\n",
       "\n",
       "    .dataframe tbody tr th {\n",
       "        vertical-align: top;\n",
       "    }\n",
       "\n",
       "    .dataframe thead th {\n",
       "        text-align: right;\n",
       "    }\n",
       "</style>\n",
       "<table border=\"1\" class=\"dataframe\">\n",
       "  <thead>\n",
       "    <tr style=\"text-align: right;\">\n",
       "      <th></th>\n",
       "      <th>단위_무게(kg)</th>\n",
       "      <th>1kg_물량</th>\n",
       "      <th>1kg_평균가격</th>\n",
       "      <th>Year</th>\n",
       "      <th>Month</th>\n",
       "      <th>평균기온</th>\n",
       "      <th>평균풍속</th>\n",
       "      <th>평균강수량</th>\n",
       "    </tr>\n",
       "  </thead>\n",
       "  <tbody>\n",
       "    <tr>\n",
       "      <th>count</th>\n",
       "      <td>20538.00</td>\n",
       "      <td>20538.00</td>\n",
       "      <td>20538.00</td>\n",
       "      <td>20538.00</td>\n",
       "      <td>20538.00</td>\n",
       "      <td>20538.00</td>\n",
       "      <td>20538.00</td>\n",
       "      <td>20538.00</td>\n",
       "    </tr>\n",
       "    <tr>\n",
       "      <th>mean</th>\n",
       "      <td>9.61</td>\n",
       "      <td>263517.83</td>\n",
       "      <td>689.21</td>\n",
       "      <td>2022.02</td>\n",
       "      <td>6.88</td>\n",
       "      <td>15.02</td>\n",
       "      <td>2.21</td>\n",
       "      <td>156.64</td>\n",
       "    </tr>\n",
       "    <tr>\n",
       "      <th>std</th>\n",
       "      <td>1.52</td>\n",
       "      <td>1630234.87</td>\n",
       "      <td>389.35</td>\n",
       "      <td>1.38</td>\n",
       "      <td>3.19</td>\n",
       "      <td>8.08</td>\n",
       "      <td>0.79</td>\n",
       "      <td>135.80</td>\n",
       "    </tr>\n",
       "    <tr>\n",
       "      <th>min</th>\n",
       "      <td>8.00</td>\n",
       "      <td>64.00</td>\n",
       "      <td>30.00</td>\n",
       "      <td>2020.00</td>\n",
       "      <td>1.00</td>\n",
       "      <td>-5.45</td>\n",
       "      <td>0.75</td>\n",
       "      <td>0.00</td>\n",
       "    </tr>\n",
       "    <tr>\n",
       "      <th>25%</th>\n",
       "      <td>8.00</td>\n",
       "      <td>9728.00</td>\n",
       "      <td>423.62</td>\n",
       "      <td>2021.00</td>\n",
       "      <td>5.00</td>\n",
       "      <td>8.28</td>\n",
       "      <td>1.60</td>\n",
       "      <td>53.20</td>\n",
       "    </tr>\n",
       "    <tr>\n",
       "      <th>50%</th>\n",
       "      <td>10.00</td>\n",
       "      <td>35775.00</td>\n",
       "      <td>601.05</td>\n",
       "      <td>2022.00</td>\n",
       "      <td>7.00</td>\n",
       "      <td>16.32</td>\n",
       "      <td>2.03</td>\n",
       "      <td>119.75</td>\n",
       "    </tr>\n",
       "    <tr>\n",
       "      <th>75%</th>\n",
       "      <td>10.00</td>\n",
       "      <td>121649.25</td>\n",
       "      <td>857.38</td>\n",
       "      <td>2023.00</td>\n",
       "      <td>10.00</td>\n",
       "      <td>22.11</td>\n",
       "      <td>2.62</td>\n",
       "      <td>225.64</td>\n",
       "    </tr>\n",
       "    <tr>\n",
       "      <th>max</th>\n",
       "      <td>15.00</td>\n",
       "      <td>51842752.00</td>\n",
       "      <td>7120.00</td>\n",
       "      <td>2024.00</td>\n",
       "      <td>12.00</td>\n",
       "      <td>28.99</td>\n",
       "      <td>4.34</td>\n",
       "      <td>706.06</td>\n",
       "    </tr>\n",
       "  </tbody>\n",
       "</table>\n",
       "</div>"
      ],
      "text/plain": [
       "       단위_무게(kg)       1kg_물량  1kg_평균가격      Year     Month      평균기온  \\\n",
       "count   20538.00     20538.00  20538.00  20538.00  20538.00  20538.00   \n",
       "mean        9.61    263517.83    689.21   2022.02      6.88     15.02   \n",
       "std         1.52   1630234.87    389.35      1.38      3.19      8.08   \n",
       "min         8.00        64.00     30.00   2020.00      1.00     -5.45   \n",
       "25%         8.00      9728.00    423.62   2021.00      5.00      8.28   \n",
       "50%        10.00     35775.00    601.05   2022.00      7.00     16.32   \n",
       "75%        10.00    121649.25    857.38   2023.00     10.00     22.11   \n",
       "max        15.00  51842752.00   7120.00   2024.00     12.00     28.99   \n",
       "\n",
       "           평균풍속     평균강수량  \n",
       "count  20538.00  20538.00  \n",
       "mean       2.21    156.64  \n",
       "std        0.79    135.80  \n",
       "min        0.75      0.00  \n",
       "25%        1.60     53.20  \n",
       "50%        2.03    119.75  \n",
       "75%        2.62    225.64  \n",
       "max        4.34    706.06  "
      ]
     },
     "execution_count": 87,
     "metadata": {},
     "output_type": "execute_result"
    }
   ],
   "source": [
    "filtered_cabbage_df.describe().round(2)"
   ]
  },
  {
   "cell_type": "markdown",
   "metadata": {},
   "source": [
    "# 신뢰구간으로 이상치 제거"
   ]
  },
  {
   "cell_type": "code",
   "execution_count": 88,
   "metadata": {},
   "outputs": [],
   "source": [
    "# 80% 신뢰구간 (하위 10%, 상위 90%) 경계 계산\n",
    "lower_bound = filtered_cabbage_df['1kg_평균가격'].quantile(0.10)\n",
    "upper_bound = filtered_cabbage_df['1kg_평균가격'].quantile(0.90)\n",
    "\n",
    "# 80% 신뢰구간 내의 데이터만 필터링\n",
    "confidence_filtered_data_80 = filtered_cabbage_df[\n",
    "    (filtered_cabbage_df['1kg_평균가격'] >= lower_bound) & \n",
    "    (filtered_cabbage_df['1kg_평균가격'] <= upper_bound)\n",
    "]\n",
    "\n",
    "# 90% 신뢰구간 (하위 5%, 상위 95%) 경계 계산\n",
    "lower_bound_90 = filtered_cabbage_df['1kg_평균가격'].quantile(0.05)\n",
    "upper_bound_90 = filtered_cabbage_df['1kg_평균가격'].quantile(0.95)\n",
    "\n",
    "# 90% 신뢰구간 내의 데이터만 필터링\n",
    "confidence_filtered_data_90 = filtered_cabbage_df[\n",
    "    (filtered_cabbage_df['1kg_평균가격'] >= lower_bound_90) & \n",
    "    (filtered_cabbage_df['1kg_평균가격'] <= upper_bound_90)\n",
    "]\n",
    "\n"
   ]
  },
  {
   "cell_type": "code",
   "execution_count": 89,
   "metadata": {},
   "outputs": [],
   "source": [
    "# confidence_filtered_data_80.to_csv(\"data-files/filtered_90_percent_confidence.csv\", index=False)"
   ]
  },
  {
   "cell_type": "code",
   "execution_count": 90,
   "metadata": {},
   "outputs": [
    {
     "name": "stderr",
     "output_type": "stream",
     "text": [
      "C:\\Users\\human\\AppData\\Local\\Temp\\ipykernel_10568\\3401983799.py:18: SettingWithCopyWarning: \n",
      "A value is trying to be set on a copy of a slice from a DataFrame.\n",
      "Try using .loc[row_indexer,col_indexer] = value instead\n",
      "\n",
      "See the caveats in the documentation: https://pandas.pydata.org/pandas-docs/stable/user_guide/indexing.html#returning-a-view-versus-a-copy\n",
      "  confidence_filtered_data_80[cultivation] = (\n",
      "C:\\Users\\human\\AppData\\Local\\Temp\\ipykernel_10568\\3401983799.py:18: SettingWithCopyWarning: \n",
      "A value is trying to be set on a copy of a slice from a DataFrame.\n",
      "Try using .loc[row_indexer,col_indexer] = value instead\n",
      "\n",
      "See the caveats in the documentation: https://pandas.pydata.org/pandas-docs/stable/user_guide/indexing.html#returning-a-view-versus-a-copy\n",
      "  confidence_filtered_data_80[cultivation] = (\n",
      "C:\\Users\\human\\AppData\\Local\\Temp\\ipykernel_10568\\3401983799.py:18: SettingWithCopyWarning: \n",
      "A value is trying to be set on a copy of a slice from a DataFrame.\n",
      "Try using .loc[row_indexer,col_indexer] = value instead\n",
      "\n",
      "See the caveats in the documentation: https://pandas.pydata.org/pandas-docs/stable/user_guide/indexing.html#returning-a-view-versus-a-copy\n",
      "  confidence_filtered_data_80[cultivation] = (\n",
      "C:\\Users\\human\\AppData\\Local\\Temp\\ipykernel_10568\\3401983799.py:18: SettingWithCopyWarning: \n",
      "A value is trying to be set on a copy of a slice from a DataFrame.\n",
      "Try using .loc[row_indexer,col_indexer] = value instead\n",
      "\n",
      "See the caveats in the documentation: https://pandas.pydata.org/pandas-docs/stable/user_guide/indexing.html#returning-a-view-versus-a-copy\n",
      "  confidence_filtered_data_80[cultivation] = (\n"
     ]
    }
   ],
   "source": [
    "from sklearn.model_selection import train_test_split\n",
    "from sklearn.ensemble import RandomForestRegressor\n",
    "from sklearn.metrics import mean_squared_error, r2_score, mean_absolute_error\n",
    "from sklearn.preprocessing import StandardScaler\n",
    "from sklearn.linear_model import LinearRegression\n",
    "\n",
    "\n",
    "# 재배 유형 정의\n",
    "cultivation_periods = {\n",
    "    \"봄재배\": {\"planting\": [3, 4, 5, 6], \"harvesting\": [6, 7]},\n",
    "    \"가을재배\": {\"planting\": [8, 9, 10], \"harvesting\": [10, 11]},\n",
    "    \"월동재배\": {\"planting\": [10, 11], \"harvesting\": [3, 4, 5]},\n",
    "    \"여름재배\": {\"planting\": [6, 7, 8], \"harvesting\": [9, 10]}\n",
    "}\n",
    "\n",
    "# 각 재배 유형에 대해 파종 및 수확 여부를 나타내는 열 추가\n",
    "for cultivation, periods in cultivation_periods.items():\n",
    "    confidence_filtered_data_80[cultivation] = (\n",
    "        confidence_filtered_data_80['Month'].isin(periods['planting'] + periods['harvesting'])\n",
    "    ).astype(int)\n",
    "\n",
    "# '도매시장' 열 원-핫 인코딩 수행\n",
    "filtered_data_80 = pd.get_dummies(confidence_filtered_data_80, columns=['도매시장'], prefix='Market')\n",
    "\n",
    "# 피처(feature)와 타겟(target) 선택\n",
    "features = [\n",
    "    '1kg_물량', '평균기온', '평균풍속', '평균강수량'\n",
    "] + list(cultivation_periods.keys()) + [col for col in filtered_data_80.columns if col.startswith('Market_')]\n",
    "X = filtered_data_80[features]\n",
    "y = filtered_data_80['1kg_평균가격']\n",
    "\n",
    "# 결측값 처리: 결측값이 포함된 행 제거\n",
    "X = X.dropna()\n",
    "y = y.loc[X.index]\n",
    "\n",
    "# 피처 스케일링: 데이터 정규화를 위해 StandardScaler 사용\n",
    "scaler = StandardScaler()\n",
    "X_scaled = scaler.fit_transform(X)\n",
    "\n",
    "# 데이터를 학습용(80%)과 테스트용(20%)으로 분리\n",
    "X_train, X_test, y_train, y_test = train_test_split(X_scaled, y, test_size=0.2, random_state=42)\n",
    "\n"
   ]
  },
  {
   "cell_type": "markdown",
   "metadata": {},
   "source": [
    "# LinearRegression"
   ]
  },
  {
   "cell_type": "code",
   "execution_count": 91,
   "metadata": {},
   "outputs": [
    {
     "data": {
      "text/plain": [
       "(np.float64(172.57796195174794),\n",
       " np.float64(43420.570307412665),\n",
       " np.float64(208.37603102903333),\n",
       " 0.0897080022065927)"
      ]
     },
     "execution_count": 91,
     "metadata": {},
     "output_type": "execute_result"
    }
   ],
   "source": [
    "# 랜덤 포레스트 모델 초기화 및 학습\n",
    "lr_model = model_lr = LinearRegression()\n",
    "lr_model.fit(X_train, y_train)\n",
    "\n",
    "# 테스트 데이터로 예측 수행\n",
    "y_pred = lr_model.predict(X_test)\n",
    "\n",
    "# 평가 지표 계산\n",
    "mae = mean_absolute_error(y_test, y_pred)\n",
    "mse = mean_squared_error(y_test, y_pred)\n",
    "rmse = np.sqrt(mse)\n",
    "r2 = r2_score(y_test, y_pred)\n",
    "\n",
    "# 평가 결과 출력\n",
    "mae, mse, rmse, r2\n",
    "\n"
   ]
  },
  {
   "cell_type": "markdown",
   "metadata": {},
   "source": [
    "# 랜덤 포레스트"
   ]
  },
  {
   "cell_type": "code",
   "execution_count": 92,
   "metadata": {},
   "outputs": [
    {
     "data": {
      "text/plain": [
       "(np.float64(135.57284800713052),\n",
       " np.float64(31374.526204213493),\n",
       " np.float64(177.12855840946003),\n",
       " 0.34224769651679565)"
      ]
     },
     "execution_count": 92,
     "metadata": {},
     "output_type": "execute_result"
    }
   ],
   "source": [
    "# 랜덤 포레스트 모델 초기화 및 학습\n",
    "rf_model = RandomForestRegressor(random_state=42)\n",
    "rf_model.fit(X_train, y_train)\n",
    "\n",
    "# 테스트 데이터로 예측 수행\n",
    "y_pred = rf_model.predict(X_test)\n",
    "\n",
    "# 평가 지표 계산\n",
    "mae = mean_absolute_error(y_test, y_pred)\n",
    "mse = mean_squared_error(y_test, y_pred)\n",
    "rmse = np.sqrt(mse)\n",
    "r2 = r2_score(y_test, y_pred)\n",
    "\n",
    "# 평가 결과 출력\n",
    "mae, mse, rmse, r2"
   ]
  },
  {
   "cell_type": "code",
   "execution_count": 93,
   "metadata": {},
   "outputs": [
    {
     "data": {
      "text/plain": [
       "(np.float64(639.8534303197723), np.float64(0.21188109898758659))"
      ]
     },
     "execution_count": 93,
     "metadata": {},
     "output_type": "execute_result"
    }
   ],
   "source": [
    "target_mean = y.mean()\n",
    "\n",
    "mae_ratio = mae / target_mean\n",
    "\n",
    "target_mean, mae_ratio"
   ]
  },
  {
   "cell_type": "markdown",
   "metadata": {},
   "source": [
    "# XGBoost"
   ]
  },
  {
   "cell_type": "code",
   "execution_count": 94,
   "metadata": {},
   "outputs": [
    {
     "data": {
      "text/plain": [
       "(np.float64(134.71079403494997),\n",
       " np.float64(29620.55361554012),\n",
       " np.float64(172.10622770701855),\n",
       " 0.3790189134887152)"
      ]
     },
     "execution_count": 94,
     "metadata": {},
     "output_type": "execute_result"
    }
   ],
   "source": [
    "from xgboost import XGBRegressor\n",
    "\n",
    "# 랜덤 포레스트 모델 초기화 및 학습\n",
    "xgb_model = XGBRegressor(random_state=42, objective='reg:squarederror')\n",
    "xgb_model.fit(X_train, y_train)\n",
    "\n",
    "# 테스트 데이터로 예측 수행\n",
    "y_pred = xgb_model.predict(X_test)\n",
    "\n",
    "# 평가 지표 계산\n",
    "mae = mean_absolute_error(y_test, y_pred)\n",
    "mse = mean_squared_error(y_test, y_pred)\n",
    "rmse = np.sqrt(mse)\n",
    "r2 = r2_score(y_test, y_pred)\n",
    "\n",
    "# 평가 결과 출력\n",
    "mae, mse, rmse, r2"
   ]
  },
  {
   "cell_type": "markdown",
   "metadata": {},
   "source": [
    "# 이상치 제거를 로그 변환하여 제거"
   ]
  },
  {
   "cell_type": "code",
   "execution_count": 95,
   "metadata": {},
   "outputs": [
    {
     "name": "stderr",
     "output_type": "stream",
     "text": [
      "C:\\Users\\human\\AppData\\Local\\Temp\\ipykernel_10568\\3434969813.py:11: DeprecationWarning: DataFrameGroupBy.apply operated on the grouping columns. This behavior is deprecated, and in a future version of pandas the grouping columns will be excluded from the operation. Either pass `include_groups=False` to exclude the groupings or explicitly select the grouping columns after groupby to silence this warning.\n",
      "  filtered_cabbage_df_no_outliers_1 = filtered_cabbage_df.groupby(['Month', '도매시장', '산지-광역시도'], group_keys=False).apply(remove_outliers_iqr, column='1kg_평균가격')\n",
      "C:\\Users\\human\\AppData\\Local\\Temp\\ipykernel_10568\\3434969813.py:16: DeprecationWarning: DataFrameGroupBy.apply operated on the grouping columns. This behavior is deprecated, and in a future version of pandas the grouping columns will be excluded from the operation. Either pass `include_groups=False` to exclude the groupings or explicitly select the grouping columns after groupby to silence this warning.\n",
      "  filtered_cabbage_df_log = filtered_cabbage_df_no_outliers_1.groupby(['Month', '도매시장', '산지-광역시도'], group_keys=False).apply(remove_outliers_iqr, column='log_1kg_평균가격')\n"
     ]
    }
   ],
   "source": [
    "# 1차: 월별, 도매시장별, 산지-광역시도별로 IQR을 이용한 이상치 제거\n",
    "def remove_outliers_iqr(group, column):\n",
    "    Q1 = group[column].quantile(0.25)\n",
    "    Q3 = group[column].quantile(0.75)\n",
    "    IQR = Q3 - Q1\n",
    "    lower_bound = Q1 - 1.5 * IQR\n",
    "    upper_bound = Q3 + 1.5 * IQR\n",
    "    return group[(group[column] >= lower_bound) & (group[column] <= upper_bound)]\n",
    "\n",
    "# 그룹화하여 1차 이상치 제거\n",
    "filtered_cabbage_df_no_outliers_1 = filtered_cabbage_df.groupby(['Month', '도매시장', '산지-광역시도'], group_keys=False).apply(remove_outliers_iqr, column='1kg_평균가격')\n",
    "\n",
    "# 2차: 로그 변환 적용 후 이상치 제거\n",
    "filtered_cabbage_df_no_outliers_1['log_1kg_평균가격'] = np.log1p(filtered_cabbage_df_no_outliers_1['1kg_평균가격'])  # 로그 변환\n",
    "\n",
    "filtered_cabbage_df_log = filtered_cabbage_df_no_outliers_1.groupby(['Month', '도매시장', '산지-광역시도'], group_keys=False).apply(remove_outliers_iqr, column='log_1kg_평균가격')\n",
    "\n"
   ]
  },
  {
   "cell_type": "code",
   "execution_count": 96,
   "metadata": {},
   "outputs": [],
   "source": [
    "from sklearn.model_selection import train_test_split\n",
    "from sklearn.ensemble import RandomForestRegressor\n",
    "from sklearn.metrics import mean_squared_error, r2_score, mean_absolute_error\n",
    "from sklearn.preprocessing import StandardScaler, MinMaxScaler\n",
    "\n",
    "# 재배 유형 정의\n",
    "cultivation_periods = {\n",
    "    \"봄재배\": {\"planting\": [3, 4, 5, 6], \"harvesting\": [6, 7]},\n",
    "    \"가을재배\": {\"planting\": [9, 10], \"harvesting\": [10, 11]},\n",
    "    \"월동재배\": {\"planting\": [9, 10, 11], \"harvesting\": [3, 4, 5]},\n",
    "    \"여름재배\": {\"planting\": [6, 7, 8], \"harvesting\": [9, 10]}\n",
    "}\n",
    "\n",
    "# 각 재배 유형에 대해 파종 및 수확 여부를 나타내는 열 추가\n",
    "for cultivation, periods in cultivation_periods.items():\n",
    "    filtered_cabbage_df_log[cultivation] = (\n",
    "        filtered_cabbage_df_log['Month'].isin(periods['planting'] + periods['harvesting'])\n",
    "    ).astype(int)\n",
    "\n",
    "# '도매시장' 열 원-핫 인코딩 수행\n",
    "filtered_data_80 = pd.get_dummies(filtered_cabbage_df_log, columns=['도매시장'], prefix='Market')\n",
    "\n",
    "# 피처(feature)와 타겟(target) 선택\n",
    "features = [\n",
    "    '1kg_물량', '평균기온', '평균풍속', '평균강수량'\n",
    "] + list(cultivation_periods.keys()) + [col for col in filtered_data_80.columns if col.startswith('Market_')]\n",
    "X = filtered_data_80[features]\n",
    "y = filtered_data_80['1kg_평균가격']\n",
    "\n",
    "# 결측값 처리: 결측값이 포함된 행 제거\n",
    "X = X.dropna()\n",
    "y = y.loc[X.index]\n",
    "\n",
    "# 피처 스케일링: 데이터 정규화를 위해 StandardScaler 사용\n",
    "scaler = StandardScaler()\n",
    "X_scaled = scaler.fit_transform(X)\n",
    "\n",
    "# 데이터를 학습용(80%)과 테스트용(20%)으로 분리\n",
    "X_train, X_test, y_train, y_test = train_test_split(X_scaled, y, test_size=0.2, random_state=42)"
   ]
  },
  {
   "cell_type": "code",
   "execution_count": 97,
   "metadata": {},
   "outputs": [
    {
     "data": {
      "text/plain": [
       "(np.float64(166.85865747401874),\n",
       " np.float64(57477.54891637748),\n",
       " np.float64(239.74475784962948),\n",
       " 0.5309014454449767)"
      ]
     },
     "execution_count": 97,
     "metadata": {},
     "output_type": "execute_result"
    }
   ],
   "source": [
    "# 랜덤 포레스트 모델 초기화 및 학습\n",
    "rf_model = RandomForestRegressor(random_state=42)\n",
    "rf_model.fit(X_train, y_train)\n",
    "\n",
    "# 테스트 데이터로 예측 수행\n",
    "y_pred = rf_model.predict(X_test)\n",
    "\n",
    "# 평가 지표 계산\n",
    "mae = mean_absolute_error(y_test, y_pred)\n",
    "mse = mean_squared_error(y_test, y_pred)\n",
    "rmse = np.sqrt(mse)\n",
    "r2 = r2_score(y_test, y_pred)\n",
    "\n",
    "# 평가 결과 출력\n",
    "mae, mse, rmse, r2"
   ]
  },
  {
   "cell_type": "markdown",
   "metadata": {},
   "source": [
    "# 재배 방식 피처를 조금 더 세분화\n",
    "재배방식에 해당하면 1 아니면 0으로 원핫인코딩방식처럼 처리"
   ]
  },
  {
   "cell_type": "code",
   "execution_count": 98,
   "metadata": {},
   "outputs": [],
   "source": [
    "data = pd.read_csv(\"data-files/filtered_90_percent_confidence.csv\")\n",
    "\n",
    "data['Year'] = pd.to_datetime(data['DATE']).dt.year"
   ]
  },
  {
   "cell_type": "markdown",
   "metadata": {},
   "source": [
    "# get_dummies"
   ]
  },
  {
   "cell_type": "code",
   "execution_count": 99,
   "metadata": {},
   "outputs": [
    {
     "name": "stderr",
     "output_type": "stream",
     "text": [
      "C:\\Users\\human\\AppData\\Local\\Temp\\ipykernel_10568\\1378041346.py:45: FutureWarning: Downcasting object dtype arrays on .fillna, .ffill, .bfill is deprecated and will change in a future version. Call result.infer_objects(copy=False) instead. To opt-in to the future behavior, set `pd.set_option('future.no_silent_downcasting', True)`\n",
      "  X[['여름재배_여부', '가을재배_여부', '월동재배_여부']] = X[['여름재배_여부', '가을재배_여부', '월동재배_여부']].fillna(False)\n",
      "C:\\Users\\human\\AppData\\Local\\Temp\\ipykernel_10568\\1378041346.py:45: SettingWithCopyWarning: \n",
      "A value is trying to be set on a copy of a slice from a DataFrame.\n",
      "Try using .loc[row_indexer,col_indexer] = value instead\n",
      "\n",
      "See the caveats in the documentation: https://pandas.pydata.org/pandas-docs/stable/user_guide/indexing.html#returning-a-view-versus-a-copy\n",
      "  X[['여름재배_여부', '가을재배_여부', '월동재배_여부']] = X[['여름재배_여부', '가을재배_여부', '월동재배_여부']].fillna(False)\n"
     ]
    }
   ],
   "source": [
    "import pandas as pd\n",
    "from sklearn.model_selection import train_test_split\n",
    "from sklearn.ensemble import RandomForestRegressor\n",
    "from sklearn.metrics import mean_squared_error, r2_score, mean_absolute_error, mean_absolute_percentage_error\n",
    "from sklearn.preprocessing import StandardScaler\n",
    "from xgboost import XGBRegressor\n",
    "\n",
    "# 재배 방식 및 기후 정보 설정\n",
    "cultivation_seasons = {\n",
    "    '봄재배': {'파종기': [3, 4], '정식기': [4, 5], '수확기': [7, 8]},\n",
    "    '가을재배': {'파종기': [7], '정식기': [8], '수확기': [10, 11]},\n",
    "    '월동재배': {'파종기': [9], '정식기': [10], '수확기': [3, 4, 5]},\n",
    "    '여름재배': {'파종기': [5, 6], '정식기': [6, 7], '수확기': [9]}\n",
    "}\n",
    "\n",
    "# 데이터 초기화\n",
    "model_data = pd.DataFrame()\n",
    "\n",
    "# 재배 방식에 따른 데이터를 처리\n",
    "for season, periods in cultivation_seasons.items():\n",
    "    # 파종기 및 정식기 데이터 선택\n",
    "    input_data = data[data['Month'].isin(periods['파종기'] + periods['정식기'])].copy()\n",
    "    input_data[f'{season}_여부'] = True  # 해당 재배 방식에 대해 True로 표시\n",
    "    \n",
    "    # 나머지 데이터에 대해서는 False로 설정\n",
    "    data[f'{season}_여부'] = data['Month'].apply(\n",
    "        lambda x: True if x in (periods['파종기'] + periods['정식기']) else False)\n",
    "\n",
    "    # NaN을 False로 대체\n",
    "    data[f'{season}_여부'] = data[f'{season}_여부'].fillna(False)\n",
    "\n",
    "    # 수확기 데이터를 타겟값으로 설정\n",
    "    target_data = data[data['Month'].isin(periods['수확기'])]\n",
    "    target_values = target_data.groupby(['Year', '도매시장', '산지-광역시도'])['1kg_평균가격'].mean().reset_index()\n",
    "    target_values.rename(columns={'1kg_평균가격': '타겟값'}, inplace=True)\n",
    "    \n",
    "    # 입력 데이터와 타겟 데이터 병합\n",
    "    season_data = pd.merge(input_data, target_values, on=['Year', '도매시장', '산지-광역시도'], how='inner')\n",
    "    model_data = pd.concat([model_data, season_data], ignore_index=True)\n",
    "\n",
    "# 입력 변수(X)와 타겟값(y) 분리\n",
    "X = model_data[['평균기온', '평균풍속', '평균강수량', '봄재배_여부', '여름재배_여부', '가을재배_여부', '월동재배_여부', '도매시장', '산지-광역시도']]\n",
    "y = model_data['타겟값']\n",
    "\n",
    "X[['여름재배_여부', '가을재배_여부', '월동재배_여부']] = X[['여름재배_여부', '가을재배_여부', '월동재배_여부']].fillna(False)\n",
    "\n",
    "# 범주형 데이터 (도매시장, 산지-광역시도)에 대해 원-핫 인코딩\n",
    "X = pd.get_dummies(X, columns=['도매시장', '산지-광역시도'], drop_first=True)\n",
    "\n",
    "\n",
    "\n",
    "# 데이터 분리\n",
    "X_train, X_test, y_train, y_test = train_test_split(X, y, test_size=0.2, random_state=42)"
   ]
  },
  {
   "cell_type": "markdown",
   "metadata": {},
   "source": [
    "# Linear"
   ]
  },
  {
   "cell_type": "code",
   "execution_count": 100,
   "metadata": {},
   "outputs": [
    {
     "name": "stderr",
     "output_type": "stream",
     "text": [
      "c:\\Users\\human\\anaconda3\\envs\\human-da-env\\Lib\\site-packages\\sklearn\\metrics\\_regression.py:492: FutureWarning: 'squared' is deprecated in version 1.4 and will be removed in 1.6. To calculate the root mean squared error, use the function'root_mean_squared_error'.\n",
      "  warnings.warn(\n"
     ]
    },
    {
     "data": {
      "text/plain": [
       "{'MAE': np.float64(128.73477392793328),\n",
       " 'RMSE': np.float64(159.9898683319194),\n",
       " 'R-squared': 0.17502061106891975}"
      ]
     },
     "execution_count": 100,
     "metadata": {},
     "output_type": "execute_result"
    }
   ],
   "source": [
    "# 모델 생성 및 학습\n",
    "model_lr = LinearRegression()\n",
    "model_lr.fit(X_train, y_train)\n",
    "\n",
    "# 예측\n",
    "y_pred_lr = model_lr.predict(X_test)\n",
    "\n",
    "# 평가\n",
    "mae_lr = mean_absolute_error(y_test, y_pred_lr)\n",
    "rmse_lr = mean_squared_error(y_test, y_pred_lr, squared=False)\n",
    "r2_lr = r2_score(y_test, y_pred_lr)\n",
    "mape_lr = mean_absolute_percentage_error(y_test, y_pred_lr)\n",
    "\n",
    "# 결과 저장 및 표시\n",
    "performance_metrics_lr = {\n",
    "    \"MAE\": mae_lr,\n",
    "    \"RMSE\": rmse_lr,\n",
    "    \"R-squared\": r2_lr\n",
    "}\n",
    "\n",
    "performance_metrics_lr"
   ]
  },
  {
   "cell_type": "markdown",
   "metadata": {},
   "source": [
    "# 랜덤 포레스트"
   ]
  },
  {
   "cell_type": "code",
   "execution_count": 101,
   "metadata": {},
   "outputs": [
    {
     "name": "stderr",
     "output_type": "stream",
     "text": [
      "c:\\Users\\human\\anaconda3\\envs\\human-da-env\\Lib\\site-packages\\sklearn\\metrics\\_regression.py:492: FutureWarning: 'squared' is deprecated in version 1.4 and will be removed in 1.6. To calculate the root mean squared error, use the function'root_mean_squared_error'.\n",
      "  warnings.warn(\n"
     ]
    },
    {
     "data": {
      "text/plain": [
       "{'MAE': np.float64(24.524279806505763),\n",
       " 'RMSE': np.float64(62.72724846273508),\n",
       " 'R-squared': 0.8731850042230339}"
      ]
     },
     "execution_count": 101,
     "metadata": {},
     "output_type": "execute_result"
    }
   ],
   "source": [
    "# 모델 생성 및 학습\n",
    "model_rf = RandomForestRegressor(random_state=42, n_estimators=100)\n",
    "model_rf.fit(X_train, y_train)\n",
    "\n",
    "# 예측\n",
    "y_pred = model_rf.predict(X_test)\n",
    "\n",
    "# 평가 지표 계산\n",
    "mae = mean_absolute_error(y_test, y_pred)\n",
    "rmse = mean_squared_error(y_test, y_pred, squared=False)\n",
    "r2 = r2_score(y_test, y_pred)\n",
    "\n",
    "# 성능 평가 결과\n",
    "performance_metrics = {\n",
    "    \"MAE\": mae,\n",
    "    \"RMSE\": rmse,\n",
    "    \"R-squared\": r2\n",
    "}\n",
    "\n",
    "# 결과 출력\n",
    "performance_metrics\n"
   ]
  },
  {
   "cell_type": "code",
   "execution_count": 102,
   "metadata": {},
   "outputs": [
    {
     "name": "stderr",
     "output_type": "stream",
     "text": [
      "c:\\Users\\human\\anaconda3\\envs\\human-da-env\\Lib\\site-packages\\sklearn\\metrics\\_regression.py:492: FutureWarning: 'squared' is deprecated in version 1.4 and will be removed in 1.6. To calculate the root mean squared error, use the function'root_mean_squared_error'.\n",
      "  warnings.warn(\n"
     ]
    },
    {
     "data": {
      "text/plain": [
       "{'MAE': np.float64(48.03863850544174),\n",
       " 'RMSE': np.float64(74.61039505462037),\n",
       " 'R-squared': 0.8205857989460483}"
      ]
     },
     "execution_count": 102,
     "metadata": {},
     "output_type": "execute_result"
    }
   ],
   "source": [
    "# 모델 생성 및 학습\n",
    "model_xgb = XGBRegressor(random_state=42, objective='reg:squarederror')\n",
    "model_xgb.fit(X_train, y_train)\n",
    "\n",
    "# 예측\n",
    "y_pred = model_xgb.predict(X_test)\n",
    "\n",
    "# 평가 지표 계산\n",
    "mae = mean_absolute_error(y_test, y_pred)\n",
    "rmse = mean_squared_error(y_test, y_pred, squared=False)\n",
    "r2 = r2_score(y_test, y_pred)\n",
    "\n",
    "# 성능 평가 결과\n",
    "performance_metrics = {\n",
    "    \"MAE\": mae,\n",
    "    \"RMSE\": rmse,\n",
    "    \"R-squared\": r2\n",
    "}\n",
    "\n",
    "# 결과 출력\n",
    "performance_metrics"
   ]
  },
  {
   "cell_type": "markdown",
   "metadata": {},
   "source": [
    "# 과정 중 문제가 있었는지 확인 (성능이 너무 뛰어남)\n",
    "데이터 유출이나 중복\n",
    "\n"
   ]
  },
  {
   "cell_type": "code",
   "execution_count": 103,
   "metadata": {},
   "outputs": [
    {
     "name": "stdout",
     "output_type": "stream",
     "text": [
      "중복 여부 확인: True\n"
     ]
    }
   ],
   "source": [
    "duplicate_check = model_data.duplicated(subset=['Year', 'Month', '도매시장', '산지-광역시도','타겟값'])\n",
    "print(\"중복 여부 확인:\", duplicate_check.any())\n"
   ]
  },
  {
   "cell_type": "markdown",
   "metadata": {},
   "source": [
    "# 중복 때문에 회귀모델이 마치 분류처럼 진행되었을 가능성이 높음"
   ]
  },
  {
   "cell_type": "markdown",
   "metadata": {},
   "source": [
    "# 일단 제거하고 실행\n",
    "예상했던 것처럼 성능이 떨어짐\n"
   ]
  },
  {
   "cell_type": "code",
   "execution_count": 104,
   "metadata": {},
   "outputs": [
    {
     "name": "stderr",
     "output_type": "stream",
     "text": [
      "c:\\Users\\human\\anaconda3\\envs\\human-da-env\\Lib\\site-packages\\sklearn\\metrics\\_regression.py:492: FutureWarning: 'squared' is deprecated in version 1.4 and will be removed in 1.6. To calculate the root mean squared error, use the function'root_mean_squared_error'.\n",
      "  warnings.warn(\n"
     ]
    },
    {
     "data": {
      "text/plain": [
       "{'MAE': np.float64(114.61882345991529),\n",
       " 'RMSE': np.float64(152.32995074818328),\n",
       " 'R-squared': 0.36475292349446875}"
      ]
     },
     "execution_count": 104,
     "metadata": {},
     "output_type": "execute_result"
    }
   ],
   "source": [
    "# 결과 저장을 위한 데이터프레임 초기화\n",
    "model_data = pd.DataFrame()\n",
    "\n",
    "cultivation_seasons = {\n",
    "    '봄재배': {'파종기': [3, 4], '정식기': [4, 5], '수확기': [7, 8]},\n",
    "    '가을재배': {'파종기': [7], '정식기': [8], '수확기': [10, 11]},\n",
    "    '월동재배': {'파종기': [9], '정식기': [10], '수확기': [3, 4, 5]},\n",
    "    '여름재배': {'파종기': [5, 6], '정식기': [6, 7], '수확기': [9]}\n",
    "}\n",
    "\n",
    "# 재배 방식 정보를 추가 (월동재배의 수확기 연도 조정 포함)\n",
    "for season, periods in cultivation_seasons.items():\n",
    "    # 입력 데이터 생성 (파종기 및 정식기)\n",
    "    input_data = data[data['Month'].isin(periods['파종기'] + periods['정식기'])].copy()\n",
    "    input_data['재배방식'] = season  # 해당 재배 방식 추가\n",
    "    \n",
    "    # 타겟 데이터 생성 (수확기)\n",
    "    target_data = data[data['Month'].isin(periods['수확기'])].copy()\n",
    "    \n",
    "    # 월동재배의 수확기 연도 조정\n",
    "    if season == '월동재배':\n",
    "        target_data['Year'] += 1  # 수확기는 다음 연도로 설정\n",
    "    \n",
    "    # 타겟값 계산\n",
    "    target_values = target_data.groupby(['Year', '도매시장', '산지-광역시도'])['1kg_평균가격'].mean().reset_index()\n",
    "    target_values.rename(columns={'1kg_평균가격': '타겟값'}, inplace=True)\n",
    "    \n",
    "    # 입력 데이터와 타겟 데이터 병합\n",
    "    season_data = pd.merge(input_data, target_values, on=['Year', '도매시장', '산지-광역시도'], how='inner')\n",
    "    model_data = pd.concat([model_data, season_data], ignore_index=True)\n",
    "\n",
    "\n",
    "# 중복 데이터 제거 (필요 시)\n",
    "model_data = model_data.drop_duplicates(subset=['Year', 'Month', '도매시장', '산지-광역시도','타겟값'])\n",
    "\n",
    "# 입력 변수(X)와 타겟값(y) 분리\n",
    "X = model_data[['평균기온', '평균풍속', '평균강수량', '재배방식', '도매시장', '산지-광역시도']]\n",
    "y = model_data['타겟값']\n",
    "\n",
    "\n",
    "# 재배 방식에 대해 원-핫 인코딩 (3개의 열 생성)\n",
    "X = pd.get_dummies(X, columns=['재배방식', '도매시장', '산지-광역시도'], drop_first=True)\n",
    "\n",
    "# 데이터 분리\n",
    "X_train, X_test, y_train, y_test = train_test_split(X, y, test_size=0.2, random_state=42)\n",
    "\n",
    "# 모델 생성 및 학습\n",
    "model = RandomForestRegressor(random_state=42, n_estimators=100)\n",
    "model.fit(X_train, y_train)\n",
    "\n",
    "# 예측\n",
    "y_pred = model.predict(X_test)\n",
    "\n",
    "# 평가\n",
    "mae = mean_absolute_error(y_test, y_pred)\n",
    "rmse = mean_squared_error(y_test, y_pred, squared=False)\n",
    "r2 = r2_score(y_test, y_pred)\n",
    "\n",
    "# 결과 저장 및 표시\n",
    "performance_metrics = {\n",
    "    \"MAE\": mae,\n",
    "    \"RMSE\": rmse,\n",
    "    \"R-squared\": r2\n",
    "}\n",
    "\n",
    "performance_metrics"
   ]
  },
  {
   "cell_type": "markdown",
   "metadata": {},
   "source": [
    "하지만 중복이 생긴것을 제거하는건 올바르지 않은 것 같다.\n",
    "\n",
    "예를들어 3월달에 특정도매시장에 특정생산지 물품이 여러번 들어오는 것은 당연한 결과\n",
    "\n",
    "이것을 중복제거하면 결국 데이터가 하나씩밖에 남지 않기 때문에"
   ]
  },
  {
   "cell_type": "markdown",
   "metadata": {},
   "source": [
    "# 시계열 모델 SARIMA"
   ]
  },
  {
   "cell_type": "markdown",
   "metadata": {},
   "source": [
    "# 정상성 확인"
   ]
  },
  {
   "cell_type": "code",
   "execution_count": 105,
   "metadata": {},
   "outputs": [
    {
     "name": "stdout",
     "output_type": "stream",
     "text": [
      "데이터는 정상성을 만족합니다.\n"
     ]
    },
    {
     "name": "stderr",
     "output_type": "stream",
     "text": [
      "C:\\Users\\human\\AppData\\Local\\Temp\\ipykernel_10568\\2778426093.py:18: FutureWarning: 'M' is deprecated and will be removed in a future version, please use 'ME' instead.\n",
      "  price_series = data['1kg_평균가격'].resample('M').mean()\n"
     ]
    }
   ],
   "source": [
    "# 필요한 라이브러리 불러오기\n",
    "import pandas as pd\n",
    "import numpy as np\n",
    "import matplotlib.pyplot as plt\n",
    "from statsmodels.tsa.statespace.sarimax import SARIMAX\n",
    "from statsmodels.tsa.stattools import adfuller\n",
    "from sklearn.metrics import mean_absolute_error, mean_squared_error\n",
    "\n",
    "# 데이터 불러오기\n",
    "data = pd.read_csv('D:/humanda/pjt-02/Mook/data-files/filtered_80_percent_confidence.csv')\n",
    "\n",
    "# 1. 데이터 준비\n",
    "# 날짜 열을 시계열 인덱스로 변환\n",
    "data['DATE'] = pd.to_datetime(data['DATE'])\n",
    "data.set_index('DATE', inplace=True)\n",
    "\n",
    "# 월별 평균값 계산 (1kg 평균가격)\n",
    "price_series = data['1kg_평균가격'].resample('M').mean()\n",
    "\n",
    "# 2. 정상성 확인 (ADF 테스트)\n",
    "adf_test = adfuller(price_series.dropna())\n",
    "if adf_test[1] < 0.05:\n",
    "    print(\"데이터는 정상성을 만족합니다.\")\n",
    "else:\n",
    "    print(\"데이터는 정상성을 만족하지 않습니다. 차분이 필요합니다.\")\n"
   ]
  },
  {
   "cell_type": "markdown",
   "metadata": {},
   "source": [
    "# SARIMA 모델 학습 및 평가"
   ]
  },
  {
   "cell_type": "code",
   "execution_count": 106,
   "metadata": {},
   "outputs": [
    {
     "name": "stderr",
     "output_type": "stream",
     "text": [
      "c:\\Users\\human\\anaconda3\\envs\\human-da-env\\Lib\\site-packages\\statsmodels\\tsa\\statespace\\sarimax.py:978: UserWarning: Non-invertible starting MA parameters found. Using zeros as starting parameters.\n",
      "  warn('Non-invertible starting MA parameters found.'\n",
      "c:\\Users\\human\\anaconda3\\envs\\human-da-env\\Lib\\site-packages\\statsmodels\\tsa\\statespace\\sarimax.py:1009: UserWarning: Non-invertible starting seasonal moving average Using zeros as starting parameters.\n",
      "  warn('Non-invertible starting seasonal moving average'\n"
     ]
    },
    {
     "name": "stdout",
     "output_type": "stream",
     "text": [
      "SARIMA 모델 평가 결과: {'MAE': np.float64(129.2941245841779), 'RMSE': np.float64(174.18856569619103), 'MAPE (%)': np.float64(21.24999572097166)}\n"
     ]
    },
    {
     "name": "stderr",
     "output_type": "stream",
     "text": [
      "c:\\Users\\human\\anaconda3\\envs\\human-da-env\\Lib\\site-packages\\sklearn\\metrics\\_regression.py:492: FutureWarning: 'squared' is deprecated in version 1.4 and will be removed in 1.6. To calculate the root mean squared error, use the function'root_mean_squared_error'.\n",
      "  warnings.warn(\n"
     ]
    }
   ],
   "source": [
    "# 3. SARIMA 모델 학습\n",
    "# SARIMA 모델 설정 및 학습 (p, d, q = 1, 1, 1 / P, D, Q, S = 1, 1, 1, 12)\n",
    "model = SARIMAX(price_series, order=(1, 1, 1), seasonal_order=(1, 1, 1, 12))\n",
    "sarima_result = model.fit(disp=False)\n",
    "\n",
    "# 4. 예측 생성\n",
    "forecast_steps = 12  # 12개월 예측\n",
    "forecast = sarima_result.get_forecast(steps=forecast_steps)\n",
    "\n",
    "# 예측값과 신뢰 구간\n",
    "forecast_values = forecast.predicted_mean\n",
    "confidence_intervals = forecast.conf_int()\n",
    "\n",
    "# 5. 모델 평가\n",
    "# 훈련 데이터에 대한 예측값 생성\n",
    "train_pred = sarima_result.fittedvalues\n",
    "\n",
    "# 평가 지표 계산\n",
    "mae = mean_absolute_error(price_series.dropna(), train_pred)\n",
    "rmse = mean_squared_error(price_series.dropna(), train_pred, squared=False)\n",
    "mape = (np.abs((price_series.dropna() - train_pred) / price_series.dropna()) * 100).mean()\n",
    "\n",
    "# 평가 결과 출력\n",
    "evaluation_results = {\n",
    "    \"MAE\": mae,\n",
    "    \"RMSE\": rmse,\n",
    "    \"MAPE (%)\": mape\n",
    "}\n",
    "print(\"SARIMA 모델 평가 결과:\", evaluation_results)"
   ]
  },
  {
   "cell_type": "code",
   "execution_count": 107,
   "metadata": {},
   "outputs": [
    {
     "data": {
      "image/png": "[encoded data removed]",
      "text/plain": [
       "<Figure size 1200x600 with 1 Axes>"
      ]
     },
     "metadata": {},
     "output_type": "display_data"
    }
   ],
   "source": [
    "#한글\n",
    "import matplotlib.pyplot as plt\n",
    "plt.rcParams['font.family'] ='Malgun Gothic'\n",
    "plt.rcParams['axes.unicode_minus'] =False\n",
    "\n",
    "# 6. 시각화\n",
    "plt.figure(figsize=(12, 6))\n",
    "plt.plot(price_series, label='실제 값', color='blue')  # 실제값\n",
    "plt.plot(forecast_values.index, forecast_values, label='예측 값', color='orange', linestyle='--')  # 예측값\n",
    "plt.fill_between(forecast_values.index, \n",
    "                 confidence_intervals.iloc[:, 0], \n",
    "                 confidence_intervals.iloc[:, 1], \n",
    "                 color='orange', alpha=0.2, label='신뢰 구간')  # 신뢰 구간\n",
    "plt.title('SARIMA 모델 예측 결과 (1kg 평균가격)', fontsize=16)\n",
    "plt.xlabel('날짜', fontsize=14)\n",
    "plt.ylabel('1kg 평균가격', fontsize=14)\n",
    "plt.legend()\n",
    "plt.grid(alpha=0.5)\n",
    "plt.show()"
   ]
  },
  {
   "cell_type": "markdown",
   "metadata": {},
   "source": [
    "# sarimax 모델에 외생변수들 추가하여 진행\n",
    "( 도매시장, 산지-광역시도, 기후데이터, 재배방식 )\n",
    "\n",
    "재배방식은 각 재배방식의 수확기에서 3개월전까지의 기후데이터를 고려 ( 겨울은 6개월전까지 )"
   ]
  },
  {
   "cell_type": "code",
   "execution_count": 108,
   "metadata": {},
   "outputs": [],
   "source": [
    "import pandas as pd\n",
    "import numpy as np\n",
    "from statsmodels.tsa.statespace.sarimax import SARIMAX\n",
    "from sklearn.metrics import mean_squared_error, mean_absolute_error\n",
    "import matplotlib.pyplot as plt\n",
    "\n",
    "data = pd.read_csv(\"data-files/filtered_80_percent_confidence.csv\")\n",
    "\n",
    "# 날짜 변환 및 정렬\n",
    "data['DATE'] = pd.to_datetime(data['DATE'])\n",
    "data = data.sort_values(by='DATE')\n",
    "\n",
    "# 데이터 크기 최적화\n",
    "data[['평균기온', '평균풍속', '평균강수량', '1kg_평균가격']] = data[\n",
    "    ['평균기온', '평균풍속', '평균강수량', '1kg_평균가격']\n",
    "].astype('float32')\n",
    "\n",
    "# 2. 수확월 및 기후 데이터 설정\n",
    "harvest_targets = {\n",
    "    'Spring_6': [6],\n",
    "    'Spring_7': [7],\n",
    "    'Summer_9': [9],\n",
    "    'Summer_8': [8],\n",
    "    'Autumn_10': [10],\n",
    "    'Autumn_11': [11],\n",
    "    'Winter_3': [3],\n",
    "    'Winter_4': [4],\n",
    "}\n",
    "\n",
    "# 수확월 기준 기후 데이터 집계\n",
    "def aggregate_climate_data(data, harvest_targets):\n",
    "    \"\"\"\n",
    "    수확월 기준으로 3개월(봄/여름/가을) 또는 6개월(겨울) 전 기후 데이터를 집계.\n",
    "    \"\"\"\n",
    "    results = []\n",
    "    for index, row in data.iterrows():\n",
    "        target_month = row['DATE'].month\n",
    "        target_date = row['DATE']\n",
    "        \n",
    "        # 수확월 기준 집계 기간 설정\n",
    "        months_prior = 6 if target_month in [3, 4] else 3\n",
    "        start_date = target_date - pd.DateOffset(months=months_prior)\n",
    "        \n",
    "        # 기간 필터링 및 평균 계산\n",
    "        period_data = data[(data['DATE'] > start_date) & (data['DATE'] < target_date)]\n",
    "        if not period_data.empty:\n",
    "            aggregated = period_data[['평균기온', '평균풍속', '평균강수량']].mean()\n",
    "            aggregated['DATE'] = target_date\n",
    "            results.append(aggregated)\n",
    "    \n",
    "    return pd.DataFrame(results).reset_index(drop=True)\n",
    "\n",
    "climate_aggregated = aggregate_climate_data(data, harvest_targets)\n",
    "\n",
    "# 병합\n",
    "final_model_data = data.merge(climate_aggregated, on='DATE', suffixes=('', '_aggregated'))\n"
   ]
  },
  {
   "cell_type": "code",
   "execution_count": 109,
   "metadata": {},
   "outputs": [],
   "source": [
    "import pandas as pd\n",
    "import numpy as np\n",
    "from statsmodels.tsa.statespace.sarimax import SARIMAX\n",
    "from sklearn.metrics import mean_squared_error, mean_absolute_error\n",
    "import matplotlib.pyplot as plt\n",
    "\n",
    "# 데이터 로드\n",
    "data = pd.read_csv(\"data-files/filtered_80_percent_confidence.csv\")\n",
    "\n",
    "# 날짜 변환 및 정렬\n",
    "data['DATE'] = pd.to_datetime(data['DATE'])\n",
    "data = data.sort_values(by='DATE')\n",
    "\n",
    "# 데이터 크기 최적화\n",
    "data[['평균기온', '평균풍속', '평균강수량', '1kg_평균가격']] = data[\n",
    "    ['평균기온', '평균풍속', '평균강수량', '1kg_평균가격']\n",
    "].astype('float32')\n",
    "\n",
    "# 월별 데이터 처리\n",
    "data['Month'] = data['DATE'].dt.month\n",
    "\n",
    "# 이동 평균 집계 함수\n",
    "def calculate_rolling_means(data, harvest_targets):\n",
    "    # 복사본 생성\n",
    "    df = data.copy()\n",
    "    df.set_index('DATE', inplace=True)\n",
    "    \n",
    "    # 이동 평균 계산\n",
    "    df['평균기온_aggregated'] = df['평균기온'].rolling('90D').mean()  # 3개월 평균\n",
    "    df['평균풍속_aggregated'] = df['평균풍속'].rolling('90D').mean()\n",
    "    df['평균강수량_aggregated'] = df['평균강수량'].rolling('90D').mean()\n",
    "\n",
    "    # 6개월 평균 (겨울 수확만 적용)\n",
    "    winter_months = [3, 4]\n",
    "    df['평균기온_aggregated'] = np.where(\n",
    "        df['Month'].isin(winter_months),\n",
    "        df['평균기온'].rolling('180D').mean(),\n",
    "        df['평균기온_aggregated']\n",
    "    )\n",
    "    df['평균풍속_aggregated'] = np.where(\n",
    "        df['Month'].isin(winter_months),\n",
    "        df['평균풍속'].rolling('180D').mean(),\n",
    "        df['평균풍속_aggregated']\n",
    "    )\n",
    "    df['평균강수량_aggregated'] = np.where(\n",
    "        df['Month'].isin(winter_months),\n",
    "        df['평균강수량'].rolling('180D').mean(),\n",
    "        df['평균강수량_aggregated']\n",
    "    )\n",
    "    \n",
    "    df.reset_index(inplace=True)\n",
    "    return df\n",
    "\n",
    "# 이동 평균 데이터 계산\n",
    "final_model_data = calculate_rolling_means(data, harvest_targets)\n"
   ]
  },
  {
   "cell_type": "markdown",
   "metadata": {},
   "source": [
    "# 모델 학습"
   ]
  },
  {
   "cell_type": "code",
   "execution_count": 110,
   "metadata": {},
   "outputs": [
    {
     "name": "stdout",
     "output_type": "stream",
     "text": [
      "{'MSE': np.float64(30805.19503142919), 'MAE': np.float64(138.2230777261148), 'RMSE': np.float64(175.5140878431962), 'MAPE': np.float64(23.62689046981835)}\n"
     ]
    }
   ],
   "source": [
    "# 3. SARIMAX 모델 학습\n",
    "target_variable = '1kg_평균가격'\n",
    "exog_variables = ['평균기온_aggregated', '평균풍속_aggregated', '평균강수량_aggregated']\n",
    "\n",
    "# 타겟 변수 및 외생 변수 설정\n",
    "final_target_values = final_model_data[target_variable]\n",
    "final_exog_data = final_model_data[exog_variables]\n",
    "\n",
    "# SARIMAX 모델 구성\n",
    "model = SARIMAX(\n",
    "    final_target_values,\n",
    "    exog=final_exog_data,\n",
    "    order=(1, 1, 1),\n",
    "    seasonal_order=(0, 1, 1, 3)  # 계절 주기 3개월\n",
    ")\n",
    "fit_model = model.fit(disp=False)\n",
    "\n",
    "# 4. 성능 평가 및 결과 출력\n",
    "predicted_values = fit_model.fittedvalues\n",
    "actual_values = final_target_values\n",
    "\n",
    "# 성능 지표 계산\n",
    "mse = mean_squared_error(actual_values, predicted_values)\n",
    "mae = mean_absolute_error(actual_values, predicted_values)\n",
    "rmse = mse ** 0.5\n",
    "mape = (abs((actual_values - predicted_values) / actual_values).mean()) * 100\n",
    "\n",
    "# 성능 출력\n",
    "print({\n",
    "    \"MSE\": mse,\n",
    "    \"MAE\": mae,\n",
    "    \"RMSE\": rmse,\n",
    "    \"MAPE\": mape,\n",
    "})"
   ]
  },
  {
   "cell_type": "markdown",
   "metadata": {},
   "source": [
    "# ETS 모델"
   ]
  },
  {
   "cell_type": "code",
   "execution_count": 111,
   "metadata": {},
   "outputs": [
    {
     "name": "stdout",
     "output_type": "stream",
     "text": [
      "{'Test MAE': np.float64(139.12736521983348), 'Test MSE': np.float64(23233.239275504737), 'Test MAPE (%)': np.float64(22.608085408941232)}\n"
     ]
    },
    {
     "name": "stderr",
     "output_type": "stream",
     "text": [
      "C:\\Users\\human\\AppData\\Local\\Temp\\ipykernel_10568\\657285089.py:14: FutureWarning: 'M' is deprecated and will be removed in a future version, please use 'ME' instead.\n",
      "  monthly_price_series = data['1kg_평균가격'].resample('M').mean()\n"
     ]
    }
   ],
   "source": [
    "from statsmodels.tsa.holtwinters import ExponentialSmoothing\n",
    "from sklearn.metrics import mean_absolute_error, mean_squared_error, r2_score\n",
    "import pandas as pd\n",
    "import numpy as np\n",
    "\n",
    "# 데이터 불러오기\n",
    "data = pd.read_csv('D:/humanda/pjt-02/Mook/data-files/filtered_80_percent_confidence.csv')\n",
    "\n",
    "# 1. 데이터 준비\n",
    "data['DATE'] = pd.to_datetime(data['DATE'])\n",
    "data.set_index('DATE', inplace=True)\n",
    "\n",
    "# 월별 평균값 계산 (1kg 평균가격)\n",
    "monthly_price_series = data['1kg_평균가격'].resample('M').mean()\n",
    "\n",
    "# 데이터 분할: 훈련 데이터와 테스트 데이터 (80%:20% 비율로 분리)\n",
    "split_index = int(len(monthly_price_series) * 0.8)\n",
    "train_data = monthly_price_series[:split_index]  # 훈련 데이터\n",
    "test_data = monthly_price_series[split_index:]  # 테스트 데이터\n",
    "\n",
    "# 훈련 데이터에 대해 ETS 모델 학습\n",
    "ets_model_train = ExponentialSmoothing(train_data, trend=\"add\", seasonal=\"add\", seasonal_periods=12)\n",
    "ets_result_train = ets_model_train.fit()\n",
    "\n",
    "# 테스트 데이터에 대해 예측 수행\n",
    "ets_test_forecast = ets_result_train.forecast(steps=len(test_data))\n",
    "\n",
    "# 테스트 평가 지표 계산\n",
    "ets_test_mae = mean_absolute_error(test_data.dropna(), ets_test_forecast)\n",
    "ets_test_mse = mean_squared_error(test_data.dropna(), ets_test_forecast)\n",
    "ets_test_mape = (np.abs((test_data.dropna() - ets_test_forecast) / test_data.dropna()) * 100).mean()\n",
    "ets_test_r2 = r2_score(test_data.dropna(), ets_test_forecast)\n",
    "\n",
    "# 테스트 평가 결과\n",
    "ets_test_evaluation_results = {\n",
    "    \"Test MAE\": ets_test_mae,      # 테스트 데이터 평균 절대 오차\n",
    "    \"Test MSE\": ets_test_mse,    # 테스트 데이터 평균 제곱근 오차\n",
    "    \"Test MAPE (%)\": ets_test_mape, # 테스트 데이터 평균 절대 백분율 오차\n",
    "}\n",
    "\n",
    "# 테스트 평가 결과 출력\n",
    "print(ets_test_evaluation_results)\n"
   ]
  },
  {
   "cell_type": "markdown",
   "metadata": {},
   "source": [
    "# SARIMA, ETS 결과 비교"
   ]
  },
  {
   "cell_type": "code",
   "execution_count": 112,
   "metadata": {},
   "outputs": [
    {
     "data": {
      "text/plain": [
       "{'SARIMA': {'MAE': np.float64(129.2941245841779),\n",
       "  'RMSE': np.float64(174.18856569619103),\n",
       "  'MAPE (%)': np.float64(21.24999572097166)},\n",
       " 'ETS': {'Test MAE': np.float64(139.12736521983348),\n",
       "  'Test MSE': np.float64(23233.239275504737),\n",
       "  'Test MAPE (%)': np.float64(22.608085408941232)}}"
      ]
     },
     "execution_count": 112,
     "metadata": {},
     "output_type": "execute_result"
    }
   ],
   "source": [
    "# SARIMA 결과와 ETS 결과 비교\n",
    "comparison_results = {\n",
    "    \"SARIMA\": evaluation_results,\n",
    "    \"ETS\": ets_test_evaluation_results\n",
    "}\n",
    "\n",
    "comparison_results"
   ]
  },
  {
   "cell_type": "markdown",
   "metadata": {},
   "source": [
    "# 분류 모델"
   ]
  },
  {
   "cell_type": "code",
   "execution_count": 113,
   "metadata": {},
   "outputs": [],
   "source": [
    "import pandas as pd\n",
    "from sklearn.model_selection import train_test_split\n",
    "from sklearn.preprocessing import StandardScaler, LabelEncoder\n",
    "from sklearn.ensemble import RandomForestClassifier\n",
    "from sklearn.linear_model import LogisticRegression\n",
    "from sklearn.tree import DecisionTreeClassifier\n",
    "from sklearn.metrics import classification_report, accuracy_score\n"
   ]
  },
  {
   "cell_type": "markdown",
   "metadata": {},
   "source": [
    "# 수확 목표 월 및 계절 정의"
   ]
  },
  {
   "cell_type": "code",
   "execution_count": 114,
   "metadata": {},
   "outputs": [],
   "source": [
    "# 수확 목표 월과 계절 정의\n",
    "harvest_targets = {\n",
    "    'Spring_6': [6],\n",
    "    'Spring_7': [7],\n",
    "    'Summer_9': [9],\n",
    "    'Summer_8': [8],\n",
    "    'Autumn_10': [10],\n",
    "    'Autumn_11': [11],\n",
    "    'Winter_3': [3],\n",
    "    'Winter_4': [4],\n",
    "}\n",
    "\n",
    "seasons = {\n",
    "    'Spring_6': [3, 4, 5],\n",
    "    'Spring_7': [4, 5, 6],\n",
    "    'Summer_9': [6, 7, 8],\n",
    "    'Summer_8': [5, 6, 7],\n",
    "    'Autumn_10': [7, 8, 9],\n",
    "    'Autumn_11': [8, 9, 10],\n",
    "    'Winter_3': [9, 10, 11],\n",
    "    'Winter_4': [10, 11, 12],\n",
    "}"
   ]
  },
  {
   "cell_type": "markdown",
   "metadata": {},
   "source": [
    "# 데이터 필터링 및 그룹화"
   ]
  },
  {
   "cell_type": "code",
   "execution_count": 128,
   "metadata": {},
   "outputs": [],
   "source": [
    "data = pd.read_csv(\"data-files/filtered_80_percent_confidence.csv\")\n",
    "\n",
    "grouped_data = []\n",
    "for target, months in harvest_targets.items():\n",
    "    season_months = seasons[target]\n",
    "    if 'Winter' in target:  # 겨울의 경우 전년도 데이터 사용\n",
    "        temp_data = data[data['Month'].isin(season_months)].copy()\n",
    "        temp_data['Year'] = temp_data['Year'] + 1\n",
    "        \n",
    "        # 2020년도 겨울 데이터 제외\n",
    "        temp_data = temp_data[temp_data['Year'] != 2020]\n",
    "    else:\n",
    "        temp_data = data[data['Month'].isin(season_months)].copy()\n",
    "    \n",
    "    # 도매시장과 산지-광역시도 기준 그룹화\n",
    "    avg_prices = temp_data.groupby(['도매시장', '산지-광역시도'])['1kg_평균가격'].mean().reset_index()\n",
    "    avg_prices['Target_Harvest_Month'] = target\n",
    "    grouped_data.append(avg_prices)\n"
   ]
  },
  {
   "cell_type": "code",
   "execution_count": 129,
   "metadata": {},
   "outputs": [
    {
     "data": {
      "text/html": [
       "<div>\n",
       "<style scoped>\n",
       "    .dataframe tbody tr th:only-of-type {\n",
       "        vertical-align: middle;\n",
       "    }\n",
       "\n",
       "    .dataframe tbody tr th {\n",
       "        vertical-align: top;\n",
       "    }\n",
       "\n",
       "    .dataframe thead th {\n",
       "        text-align: right;\n",
       "    }\n",
       "</style>\n",
       "<table border=\"1\" class=\"dataframe\">\n",
       "  <thead>\n",
       "    <tr style=\"text-align: right;\">\n",
       "      <th></th>\n",
       "      <th>도매시장</th>\n",
       "      <th>산지-광역시도</th>\n",
       "      <th>1kg_평균가격</th>\n",
       "      <th>Target_Harvest_Month</th>\n",
       "    </tr>\n",
       "  </thead>\n",
       "  <tbody>\n",
       "    <tr>\n",
       "      <th>0</th>\n",
       "      <td>강릉도매시장</td>\n",
       "      <td>강원도</td>\n",
       "      <td>646.104504</td>\n",
       "      <td>Winter_4</td>\n",
       "    </tr>\n",
       "    <tr>\n",
       "      <th>1</th>\n",
       "      <td>강릉도매시장</td>\n",
       "      <td>경기도</td>\n",
       "      <td>1087.797619</td>\n",
       "      <td>Winter_4</td>\n",
       "    </tr>\n",
       "    <tr>\n",
       "      <th>2</th>\n",
       "      <td>강릉도매시장</td>\n",
       "      <td>경상남도</td>\n",
       "      <td>618.750000</td>\n",
       "      <td>Winter_4</td>\n",
       "    </tr>\n",
       "    <tr>\n",
       "      <th>3</th>\n",
       "      <td>강릉도매시장</td>\n",
       "      <td>부산광역시</td>\n",
       "      <td>715.789474</td>\n",
       "      <td>Winter_4</td>\n",
       "    </tr>\n",
       "    <tr>\n",
       "      <th>4</th>\n",
       "      <td>강릉도매시장</td>\n",
       "      <td>서울특별시</td>\n",
       "      <td>885.462037</td>\n",
       "      <td>Winter_4</td>\n",
       "    </tr>\n",
       "    <tr>\n",
       "      <th>...</th>\n",
       "      <td>...</td>\n",
       "      <td>...</td>\n",
       "      <td>...</td>\n",
       "      <td>...</td>\n",
       "    </tr>\n",
       "    <tr>\n",
       "      <th>224</th>\n",
       "      <td>충주도매시장</td>\n",
       "      <td>충청북도</td>\n",
       "      <td>634.900247</td>\n",
       "      <td>Winter_4</td>\n",
       "    </tr>\n",
       "    <tr>\n",
       "      <th>225</th>\n",
       "      <td>포항도매시장</td>\n",
       "      <td>강원도</td>\n",
       "      <td>713.920247</td>\n",
       "      <td>Winter_4</td>\n",
       "    </tr>\n",
       "    <tr>\n",
       "      <th>226</th>\n",
       "      <td>포항도매시장</td>\n",
       "      <td>경상북도</td>\n",
       "      <td>680.193626</td>\n",
       "      <td>Winter_4</td>\n",
       "    </tr>\n",
       "    <tr>\n",
       "      <th>227</th>\n",
       "      <td>포항도매시장</td>\n",
       "      <td>부산광역시</td>\n",
       "      <td>421.674953</td>\n",
       "      <td>Winter_4</td>\n",
       "    </tr>\n",
       "    <tr>\n",
       "      <th>228</th>\n",
       "      <td>포항도매시장</td>\n",
       "      <td>제주도</td>\n",
       "      <td>534.876780</td>\n",
       "      <td>Winter_4</td>\n",
       "    </tr>\n",
       "  </tbody>\n",
       "</table>\n",
       "<p>229 rows × 4 columns</p>\n",
       "</div>"
      ],
      "text/plain": [
       "       도매시장 산지-광역시도     1kg_평균가격 Target_Harvest_Month\n",
       "0    강릉도매시장     강원도   646.104504             Winter_4\n",
       "1    강릉도매시장     경기도  1087.797619             Winter_4\n",
       "2    강릉도매시장    경상남도   618.750000             Winter_4\n",
       "3    강릉도매시장   부산광역시   715.789474             Winter_4\n",
       "4    강릉도매시장   서울특별시   885.462037             Winter_4\n",
       "..      ...     ...          ...                  ...\n",
       "224  충주도매시장    충청북도   634.900247             Winter_4\n",
       "225  포항도매시장     강원도   713.920247             Winter_4\n",
       "226  포항도매시장    경상북도   680.193626             Winter_4\n",
       "227  포항도매시장   부산광역시   421.674953             Winter_4\n",
       "228  포항도매시장     제주도   534.876780             Winter_4\n",
       "\n",
       "[229 rows x 4 columns]"
      ]
     },
     "execution_count": 129,
     "metadata": {},
     "output_type": "execute_result"
    }
   ],
   "source": [
    "avg_prices"
   ]
  },
  {
   "cell_type": "markdown",
   "metadata": {},
   "source": [
    "# 그룹화된 데이터 병합 및 타겟 변수 생성"
   ]
  },
  {
   "cell_type": "code",
   "execution_count": 130,
   "metadata": {},
   "outputs": [],
   "source": [
    "# 데이터 병합\n",
    "final_grouped_data = pd.concat(grouped_data, ignore_index=True)\n",
    "\n",
    "merged_data = pd.merge(\n",
    "    final_grouped_data,\n",
    "    data[['도매시장', '산지-광역시도', '평균기온', '평균풍속', '평균강수량', 'Month', 'Year']],\n",
    "    on=['도매시장', '산지-광역시도'],\n",
    "    how='left'\n",
    ")\n",
    "\n",
    "\n",
    "# 평균 가격 기준으로 타겟 변수 생성\n",
    "mean_price = merged_data['1kg_평균가격'].mean()\n",
    "merged_data['Price_Label'] = merged_data['1kg_평균가격'].apply(lambda x: '비싸다' if x > mean_price else '싸다')"
   ]
  },
  {
   "cell_type": "markdown",
   "metadata": {},
   "source": [
    "# 입력 피처 및 타겟 변수 준비"
   ]
  },
  {
   "cell_type": "code",
   "execution_count": 131,
   "metadata": {},
   "outputs": [
    {
     "name": "stderr",
     "output_type": "stream",
     "text": [
      "C:\\Users\\human\\AppData\\Local\\Temp\\ipykernel_10568\\151240015.py:20: SettingWithCopyWarning: \n",
      "A value is trying to be set on a copy of a slice from a DataFrame.\n",
      "Try using .loc[row_indexer,col_indexer] = value instead\n",
      "\n",
      "See the caveats in the documentation: https://pandas.pydata.org/pandas-docs/stable/user_guide/indexing.html#returning-a-view-versus-a-copy\n",
      "  X[['평균기온', '평균풍속', '평균강수량']] = X_scaled\n"
     ]
    }
   ],
   "source": [
    "# 입력 피처 및 타겟 변수 설정\n",
    "features = ['평균기온', '평균풍속', '평균강수량', '도매시장', '산지-광역시도']\n",
    "target = 'Price_Label'\n",
    "\n",
    "# 카테고리형 변수 인코딩\n",
    "encoded_data = merged_data.copy()\n",
    "label_encoders = {}\n",
    "for col in ['도매시장', '산지-광역시도']:\n",
    "    encoder = LabelEncoder()\n",
    "    encoded_data[col] = encoder.fit_transform(encoded_data[col])\n",
    "    label_encoders[col] = encoder\n",
    "\n",
    "# 입력 및 타겟 분리\n",
    "X = encoded_data[features]\n",
    "y = encoded_data[target]\n",
    "\n",
    "# 피처 스케일링\n",
    "scaler = StandardScaler()\n",
    "X_scaled = scaler.fit_transform(X[['평균기온', '평균풍속', '평균강수량']])\n",
    "X[['평균기온', '평균풍속', '평균강수량']] = X_scaled"
   ]
  },
  {
   "cell_type": "markdown",
   "metadata": {},
   "source": [
    "# 데이터 분할 및 모델 정의"
   ]
  },
  {
   "cell_type": "code",
   "execution_count": 132,
   "metadata": {},
   "outputs": [],
   "source": [
    "# 데이터 분할\n",
    "X_train, X_test, y_train, y_test = train_test_split(X, y, test_size=0.2, random_state=42, stratify=y)\n",
    "\n",
    "# 모델 정의\n",
    "models = {\n",
    "    \"Logistic Regression\": LogisticRegression(),\n",
    "    \"Decision Tree\": DecisionTreeClassifier(),\n",
    "    \"Random Forest\": RandomForestClassifier()\n",
    "}"
   ]
  },
  {
   "cell_type": "markdown",
   "metadata": {},
   "source": [
    "# 모델 학습 및 평가"
   ]
  },
  {
   "cell_type": "code",
   "execution_count": 133,
   "metadata": {},
   "outputs": [
    {
     "name": "stdout",
     "output_type": "stream",
     "text": [
      "                 Model  Accuracy  Precision (비싸다)  Recall (비싸다)  \\\n",
      "0  Logistic Regression  0.638548         0.620340      0.565534   \n",
      "1        Decision Tree  0.707881         0.675513      0.710384   \n",
      "2        Random Forest  0.707405         0.680642      0.693519   \n",
      "\n",
      "   F1-Score (비싸다)  Precision (싸다)  Recall (싸다)  F1-Score (싸다)  \n",
      "0         0.59167        0.651849     0.701513       0.675770  \n",
      "1         0.69251        0.738603     0.705722       0.721788  \n",
      "2         0.68702        0.731312     0.719380       0.725297  \n"
     ]
    }
   ],
   "source": [
    "# 모델 학습 및 평가\n",
    "results_full = []\n",
    "for name, model in models.items():\n",
    "    model.fit(X_train, y_train)\n",
    "    y_pred = model.predict(X_test)\n",
    "    \n",
    "    # 평가지표 계산\n",
    "    acc = accuracy_score(y_test, y_pred)\n",
    "    report = classification_report(y_test, y_pred, output_dict=True)\n",
    "    results_full.append({\n",
    "        \"Model\": name,\n",
    "        \"Accuracy\": acc,\n",
    "        \"Precision (비싸다)\": report.get('비싸다', {}).get('precision', None),\n",
    "        \"Recall (비싸다)\": report.get('비싸다', {}).get('recall', None),\n",
    "        \"F1-Score (비싸다)\": report.get('비싸다', {}).get('f1-score', None),\n",
    "        \"Precision (싸다)\": report.get('싸다', {}).get('precision', None),\n",
    "        \"Recall (싸다)\": report.get('싸다', {}).get('recall', None),\n",
    "        \"F1-Score (싸다)\": report.get('싸다', {}).get('f1-score', None)\n",
    "    })\n",
    "\n",
    "# 결과를 데이터프레임으로 정리\n",
    "results_full_df = pd.DataFrame(results_full)\n",
    "\n",
    "# 결과 출력\n",
    "print(results_full_df)\n"
   ]
  },
  {
   "cell_type": "markdown",
   "metadata": {},
   "source": [
    "# 도매시장과 광역시도를 고려하지 않고 분류 진행하였을때\n",
    "성능이 조금 높아짐 아마 도매시장과 광역시도를 "
   ]
  },
  {
   "cell_type": "code",
   "execution_count": 121,
   "metadata": {},
   "outputs": [
    {
     "name": "stdout",
     "output_type": "stream",
     "text": [
      "                 Model  Accuracy  Precision (비싸다)  Recall (비싸다)  \\\n",
      "0  Logistic Regression  0.564477         0.550336      0.112175   \n",
      "1        Decision Tree  0.752129         0.712131      0.742818   \n",
      "2        Random Forest  0.753041         0.717828      0.732558   \n",
      "\n",
      "   F1-Score (비싸다)  Precision (싸다)  Recall (싸다)  F1-Score (싸다)  \n",
      "0        0.186364        0.565886     0.926616       0.702658  \n",
      "1        0.727151        0.786727     0.759584       0.772917  \n",
      "2        0.725118        0.782294     0.769441       0.775814  \n"
     ]
    }
   ],
   "source": [
    "import pandas as pd\n",
    "from sklearn.model_selection import train_test_split\n",
    "from sklearn.preprocessing import StandardScaler\n",
    "from sklearn.ensemble import RandomForestClassifier\n",
    "from sklearn.linear_model import LogisticRegression\n",
    "from sklearn.tree import DecisionTreeClassifier\n",
    "from sklearn.metrics import classification_report, accuracy_score\n",
    "\n",
    "# 타겟 변수 생성\n",
    "mean_price = data['1kg_평균가격'].mean()  # 전체 평균 계산\n",
    "data['Price_Label'] = data['1kg_평균가격'].apply(lambda x: '비싸다' if x > mean_price else '싸다')  # 타겟 변수 생성\n",
    "\n",
    "# 입력 피처에서 도매시장과 산지-광역시도를 제거\n",
    "features = ['평균기온', '평균풍속', '평균강수량']  # 기후 데이터만 사용\n",
    "target = 'Price_Label'\n",
    "\n",
    "# 입력 및 타겟 분리\n",
    "X = data[features]\n",
    "y = data[target]\n",
    "\n",
    "# 피처 스케일링\n",
    "scaler = StandardScaler()\n",
    "X_scaled = scaler.fit_transform(X)\n",
    "\n",
    "# 데이터 분할\n",
    "X_train, X_test, y_train, y_test = train_test_split(X_scaled, y, test_size=0.2, random_state=42, stratify=y)\n",
    "\n",
    "# 모델 정의\n",
    "models = {\n",
    "    \"Logistic Regression\": LogisticRegression(),\n",
    "    \"Decision Tree\": DecisionTreeClassifier(),\n",
    "    \"Random Forest\": RandomForestClassifier()\n",
    "}\n",
    "\n",
    "# 모델 학습 및 평가\n",
    "results_full = []\n",
    "for name, model in models.items():\n",
    "    model.fit(X_train, y_train)\n",
    "    y_pred = model.predict(X_test)\n",
    "    \n",
    "    # 평가지표 계산\n",
    "    acc = accuracy_score(y_test, y_pred)\n",
    "    report = classification_report(y_test, y_pred, output_dict=True)\n",
    "    results_full.append({\n",
    "        \"Model\": name,\n",
    "        \"Accuracy\": acc,\n",
    "        \"Precision (비싸다)\": report.get('비싸다', {}).get('precision', None),\n",
    "        \"Recall (비싸다)\": report.get('비싸다', {}).get('recall', None),\n",
    "        \"F1-Score (비싸다)\": report.get('비싸다', {}).get('f1-score', None),\n",
    "        \"Precision (싸다)\": report.get('싸다', {}).get('precision', None),\n",
    "        \"Recall (싸다)\": report.get('싸다', {}).get('recall', None),\n",
    "        \"F1-Score (싸다)\": report.get('싸다', {}).get('f1-score', None)\n",
    "    })\n",
    "\n",
    "# 결과를 데이터프레임으로 정리\n",
    "results_full_df = pd.DataFrame(results_full)\n",
    "\n",
    "# 결과 출력\n",
    "print(results_full_df)\n"
   ]
  }
 ],
 "metadata": {
  "kernelspec": {
   "display_name": "human-da-env",
   "language": "python",
   "name": "python3"
  },
  "language_info": {
   "codemirror_mode": {
    "name": "ipython",
    "version": 3
   },
   "file_extension": ".py",
   "mimetype": "text/x-python",
   "name": "python",
   "nbconvert_exporter": "python",
   "pygments_lexer": "ipython3",
   "version": "3.12.7"
  }
 },
 "nbformat": 4,
 "nbformat_minor": 2
}
