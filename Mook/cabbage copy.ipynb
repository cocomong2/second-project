{
 "cells": [
  {
   "cell_type": "code",
   "execution_count": 4,
   "metadata": {},
   "outputs": [
    {
     "name": "stdout",
     "output_type": "stream",
     "text": [
      "Fitting 5 folds for each of 36 candidates, totalling 180 fits\n"
     ]
    },
    {
     "data": {
      "text/plain": [
       "({'max_depth': 20, 'max_features': None, 'n_estimators': 200},\n",
       " 0.9379952433728882)"
      ]
     },
     "execution_count": 4,
     "metadata": {},
     "output_type": "execute_result"
    }
   ],
   "source": [
    "# 필요한 라이브러리 다시 가져오기\n",
    "import pandas as pd\n",
    "from sklearn.model_selection import train_test_split, GridSearchCV\n",
    "from sklearn.ensemble import RandomForestRegressor\n",
    "from sklearn.metrics import mean_squared_error, r2_score\n",
    "from sklearn.preprocessing import StandardScaler\n",
    "\n",
    "# 데이터셋 로드\n",
    "\n",
    "merged_df = pd.read_csv(\"D:/humanda/pjt-02/Mook/data-files/merged_df.csv\")\n",
    "\n",
    "# 'DATE' 열을 datetime 형식으로 변환\n",
    "merged_df['DATE'] = pd.to_datetime(merged_df['DATE'])\n",
    "\n",
    "# 'Month' 열 추가: 날짜 열에서 월 정보 추출\n",
    "merged_df['Month'] = merged_df['DATE'].dt.month\n",
    "\n",
    "# 재배 기간 정의\n",
    "cultivation_periods = {\n",
    "    \"봄재배\": {\"planting\": [3, 4, 5, 6], \"harvesting\": [6, 7]},       # 봄 재배의 파종 및 수확 기간\n",
    "    \"가을재배\": {\"planting\": [7, 8, 9, 10], \"harvesting\": [10, 11]},  # 가을 재배의 파종 및 수확 기간\n",
    "    \"월동재배\": {\"planting\": [9, 10, 11], \"harvesting\": [3, 4, 5]},   # 월동 재배의 파종 및 수확 기간\n",
    "    \"여름재배\": {\"planting\": [5, 6, 7, 8], \"harvesting\": [9]}         # 여름 재배의 파종 및 수확 기간\n",
    "}\n",
    "\n",
    "# 각 재배 유형에 대해 파종 및 수확 기간을 나타내는 열 추가\n",
    "for cultivation, periods in cultivation_periods.items():\n",
    "    merged_df[cultivation] = (\n",
    "        merged_df['Month'].isin(periods['planting'] + periods['harvesting'])  # 파종 및 수확 월에 해당하는지 여부\n",
    "    ).astype(int)  # 결과를 0 또는 1로 변환\n",
    "\n",
    "# '도매시장' 열에 대해 원-핫 인코딩 수행\n",
    "# 각각의 도매시장 이름에 해당하는 새로운 열 생성 (값은 0 또는 1)\n",
    "merged_df = pd.get_dummies(merged_df, columns=['도매시장'], prefix='Market')\n",
    "\n",
    "# 피처(feature)와 타겟(target) 선택\n",
    "features = [\n",
    "    '총거래물량', 'weighted_price', '평균기온', '평균풍속', '평균강수량'  # 거래 및 기후 데이터\n",
    "] + list(cultivation_periods.keys()) + [col for col in merged_df.columns if col.startswith('Market_')]  # 재배 유형 및 도매시장\n",
    "X = merged_df[features]  # 입력 데이터(X) 설정\n",
    "y = merged_df['평균가격']  # 출력 데이터(y) 설정\n",
    "\n",
    "# 결측값 처리: 결측값이 포함된 행 제거\n",
    "X = X.dropna()\n",
    "y = y.loc[X.index]  # X에서 제외된 행에 맞춰 y도 정렬\n",
    "\n",
    "# 피처 스케일링: 데이터 정규화를 위해 StandardScaler 사용\n",
    "scaler = StandardScaler()\n",
    "X_scaled = scaler.fit_transform(X)\n",
    "\n",
    "# 데이터를 학습용(80%)과 테스트용(20%)으로 분리\n",
    "X_train, X_test, y_train, y_test = train_test_split(X_scaled, y, test_size=0.2, random_state=42)\n",
    "\n",
    "# 랜덤 포레스트의 하이퍼파라미터 그리드 정의\n",
    "param_grid = {\n",
    "    'n_estimators': [50, 100, 200],  # 트리의 개수\n",
    "    'max_depth': [5, 10, 20, None],  # 트리의 최대 깊이\n",
    "    'max_features': ['sqrt', 'log2', None]  # 사용되는 최대 피처 수\n",
    "}\n",
    "\n",
    "# 랜덤 포레스트 모델 초기화\n",
    "rf_model = RandomForestRegressor(random_state=42)\n",
    "\n",
    "# GridSearchCV 설정\n",
    "grid_search = GridSearchCV(\n",
    "    estimator=rf_model,    # 사용할 모델\n",
    "    param_grid=param_grid,  # 하이퍼파라미터 그리드\n",
    "    cv=5,  # 5-fold 교차 검증\n",
    "    scoring='r2',  # R² 점수를 평가 지표로 사용\n",
    "    verbose=2,  # 진행 상황 출력\n",
    "    n_jobs=-1  # 가능한 모든 CPU 코어 사용\n",
    ")\n",
    "\n",
    "# 그리드 검색 실행\n",
    "grid_search.fit(X_train, y_train)\n",
    "\n",
    "# 최적의 하이퍼파라미터와 최적의 점수 확인\n",
    "best_params = grid_search.best_params_\n",
    "best_score = grid_search.best_score_\n",
    "\n",
    "best_params, best_score\n"
   ]
  },
  {
   "cell_type": "code",
   "execution_count": 5,
   "metadata": {},
   "outputs": [
    {
     "data": {
      "text/plain": [
       "['총거래물량',\n",
       " 'weighted_price',\n",
       " '평균기온',\n",
       " '평균풍속',\n",
       " '평균강수량',\n",
       " '봄재배',\n",
       " '가을재배',\n",
       " '월동재배',\n",
       " '여름재배',\n",
       " 'Market_강릉도매시장',\n",
       " 'Market_광주각화도매',\n",
       " 'Market_광주서부도매',\n",
       " 'Market_구리도매시장',\n",
       " 'Market_구미도매시장',\n",
       " 'Market_대구북부도매',\n",
       " 'Market_대전노은도매',\n",
       " 'Market_대전오정도매',\n",
       " 'Market_부산반여도매',\n",
       " 'Market_부산엄궁도매',\n",
       " 'Market_서울가락도매',\n",
       " 'Market_서울강서도매',\n",
       " 'Market_수원도매시장',\n",
       " 'Market_순천도매시장',\n",
       " 'Market_안산도매시장',\n",
       " 'Market_안양도매시장',\n",
       " 'Market_울산도매시장',\n",
       " 'Market_원주도매시장',\n",
       " 'Market_인천구월도매',\n",
       " 'Market_인천삼산도매',\n",
       " 'Market_전주도매시장',\n",
       " 'Market_정읍도매시장',\n",
       " 'Market_진주도매시장',\n",
       " 'Market_창원내서도매시장',\n",
       " 'Market_창원팔용도매시장',\n",
       " 'Market_천안도매시장',\n",
       " 'Market_청주도매시장',\n",
       " 'Market_춘천도매시장',\n",
       " 'Market_충주도매시장',\n",
       " 'Market_포항도매시장']"
      ]
     },
     "execution_count": 5,
     "metadata": {},
     "output_type": "execute_result"
    }
   ],
   "source": [
    "features"
   ]
  },
  {
   "cell_type": "code",
   "execution_count": 6,
   "metadata": {},
   "outputs": [
    {
     "data": {
      "text/plain": [
       "{'Optimized Train MSE': 66714.91316244028,\n",
       " 'Optimized Train R²': 0.9929166542298278,\n",
       " 'Optimized Test MSE': 334047.64375587914,\n",
       " 'Optimized Test R²': 0.9629851202034397}"
      ]
     },
     "execution_count": 6,
     "metadata": {},
     "output_type": "execute_result"
    }
   ],
   "source": [
    "# Apply the best parameters found by GridSearchCV\n",
    "optimized_rf_model = RandomForestRegressor(\n",
    "    n_estimators=best_params['n_estimators'],\n",
    "    max_depth=best_params['max_depth'],\n",
    "    max_features=best_params['max_features'],\n",
    "    random_state=42\n",
    ")\n",
    "\n",
    "# Train the optimized model\n",
    "optimized_rf_model.fit(X_train, y_train)\n",
    "\n",
    "# Evaluate the model on training and test data\n",
    "y_train_pred_optimized = optimized_rf_model.predict(X_train)\n",
    "y_test_pred_optimized = optimized_rf_model.predict(X_test)\n",
    "\n",
    "# Calculate performance metrics\n",
    "train_mse_optimized = mean_squared_error(y_train, y_train_pred_optimized)\n",
    "train_r2_optimized = r2_score(y_train, y_train_pred_optimized)\n",
    "test_mse_optimized = mean_squared_error(y_test, y_test_pred_optimized)\n",
    "test_r2_optimized = r2_score(y_test, y_test_pred_optimized)\n",
    "\n",
    "{\n",
    "    \"Optimized Train MSE\": train_mse_optimized,\n",
    "    \"Optimized Train R²\": train_r2_optimized,\n",
    "    \"Optimized Test MSE\": test_mse_optimized,\n",
    "    \"Optimized Test R²\": test_r2_optimized\n",
    "}\n"
   ]
  },
  {
   "cell_type": "code",
   "execution_count": null,
   "metadata": {},
   "outputs": [],
   "source": []
  }
 ],
 "metadata": {
  "kernelspec": {
   "display_name": "human-da-env",
   "language": "python",
   "name": "python3"
  },
  "language_info": {
   "codemirror_mode": {
    "name": "ipython",
    "version": 3
   },
   "file_extension": ".py",
   "mimetype": "text/x-python",
   "name": "python",
   "nbconvert_exporter": "python",
   "pygments_lexer": "ipython3",
   "version": "3.12.7"
  }
 },
 "nbformat": 4,
 "nbformat_minor": 2
}
