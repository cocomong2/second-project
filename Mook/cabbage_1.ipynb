{
 "cells": [
  {
   "cell_type": "code",
   "execution_count": 141,
   "metadata": {},
   "outputs": [],
   "source": [
    "import pandas as pd\n",
    "import numpy as np\n",
    "import matplotlib.pyplot as plt\n",
    "import seaborn as sns"
   ]
  },
  {
   "cell_type": "code",
   "execution_count": 142,
   "metadata": {},
   "outputs": [],
   "source": [
    "cabbage_df = pd.read_csv(\"data-files/merged_df_1.csv\")"
   ]
  },
  {
   "cell_type": "code",
   "execution_count": 143,
   "metadata": {},
   "outputs": [
    {
     "name": "stdout",
     "output_type": "stream",
     "text": [
      "<class 'pandas.core.frame.DataFrame'>\n",
      "RangeIndex: 20591 entries, 0 to 20590\n",
      "Data columns (total 13 columns):\n",
      " #   Column          Non-Null Count  Dtype  \n",
      "---  ------          --------------  -----  \n",
      " 0   DATE            20591 non-null  object \n",
      " 1   거래단위            20591 non-null  object \n",
      " 2   도매시장            20591 non-null  object \n",
      " 3   산지-광역시도         20591 non-null  object \n",
      " 4   등급              20591 non-null  object \n",
      " 5   단위_무게(kg)       20591 non-null  int64  \n",
      " 6   1kg_물량          20591 non-null  int64  \n",
      " 7   1kg_평균가격        20591 non-null  float64\n",
      " 8   weighted_price  20591 non-null  float64\n",
      " 9   광역시도            20591 non-null  object \n",
      " 10  평균기온            20591 non-null  float64\n",
      " 11  평균풍속            20591 non-null  float64\n",
      " 12  평균강수량           20591 non-null  float64\n",
      "dtypes: float64(5), int64(2), object(6)\n",
      "memory usage: 2.0+ MB\n"
     ]
    }
   ],
   "source": [
    "cabbage_df.info()"
   ]
  },
  {
   "cell_type": "markdown",
   "metadata": {},
   "source": [
    "# 데이터 부족한 도매시장제거"
   ]
  },
  {
   "cell_type": "code",
   "execution_count": 144,
   "metadata": {},
   "outputs": [
    {
     "data": {
      "text/plain": [
       "{'Total Markets After Filtering': 30,\n",
       " 'Total Data Count After Filtering': 20580}"
      ]
     },
     "execution_count": 144,
     "metadata": {},
     "output_type": "execute_result"
    }
   ],
   "source": [
    "cabbage_df['DATE'] = pd.to_datetime(cabbage_df['DATE'])\n",
    "\n",
    "# Month 열을 추가하여 날짜에서 월 정보 확인\n",
    "cabbage_df['Month'] = cabbage_df['DATE'].dt.month\n",
    "\n",
    "# 각 도매시장별 월별 데이터 개수를 확인\n",
    "monthly_data_availability = cabbage_df.groupby(['도매시장', 'Month']).size().unstack(fill_value=0)\n",
    "\n",
    "# 모든 월(1월~12월)에 데이터가 존재하는 도매시장만 필터링\n",
    "sufficient_data_markets = monthly_data_availability[monthly_data_availability.min(axis=1) > 0].index\n",
    "\n",
    "# 충분한 데이터를 가진 도매시장만 포함\n",
    "filtered_cabbage_df = cabbage_df[cabbage_df['도매시장'].isin(sufficient_data_markets)]\n",
    "\n",
    "\n",
    "# 충분한 데이터를 가진 도매시장 수와 총 데이터 개수 확인\n",
    "market_counts = filtered_cabbage_df['도매시장'].value_counts()\n",
    "total_data_count = len(filtered_cabbage_df)\n",
    "\n",
    "# 결과 출력\n",
    "{\n",
    "    \"Total Markets After Filtering\": len(sufficient_data_markets),  # 제거 후 남은 도매시장 수\n",
    "    \"Total Data Count After Filtering\": total_data_count            # 필터링 후 총 데이터 개수\n",
    "}\n"
   ]
  },
  {
   "cell_type": "markdown",
   "metadata": {},
   "source": [
    "# 신뢰구간으로 이상치 제거"
   ]
  },
  {
   "cell_type": "code",
   "execution_count": 145,
   "metadata": {},
   "outputs": [],
   "source": [
    "# 80% 신뢰구간 (하위 10%, 상위 90%) 경계 계산\n",
    "lower_bound = filtered_cabbage_df['1kg_평균가격'].quantile(0.10)\n",
    "upper_bound = filtered_cabbage_df['1kg_평균가격'].quantile(0.90)\n",
    "\n",
    "# 80% 신뢰구간 내의 데이터만 필터링\n",
    "confidence_filtered_data_80 = filtered_cabbage_df[\n",
    "    (filtered_cabbage_df['1kg_평균가격'] >= lower_bound) & \n",
    "    (filtered_cabbage_df['1kg_평균가격'] <= upper_bound)\n",
    "]\n",
    "\n",
    "# 90% 신뢰구간 (하위 5%, 상위 95%) 경계 계산\n",
    "lower_bound_90 = filtered_cabbage_df['1kg_평균가격'].quantile(0.05)\n",
    "upper_bound_90 = filtered_cabbage_df['1kg_평균가격'].quantile(0.95)\n",
    "\n",
    "# 90% 신뢰구간 내의 데이터만 필터링\n",
    "confidence_filtered_data_90 = filtered_cabbage_df[\n",
    "    (filtered_cabbage_df['1kg_평균가격'] >= lower_bound_90) & \n",
    "    (filtered_cabbage_df['1kg_평균가격'] <= upper_bound_90)\n",
    "]\n",
    "\n"
   ]
  },
  {
   "cell_type": "code",
   "execution_count": 146,
   "metadata": {},
   "outputs": [],
   "source": [
    "# filtered_cabbage_df.to_csv(\"data-files/filtered_cabbage_df.csv\", index=False)"
   ]
  },
  {
   "cell_type": "code",
   "execution_count": 147,
   "metadata": {},
   "outputs": [
    {
     "name": "stderr",
     "output_type": "stream",
     "text": [
      "C:\\Users\\human\\AppData\\Local\\Temp\\ipykernel_7648\\2016825129.py:16: SettingWithCopyWarning: \n",
      "A value is trying to be set on a copy of a slice from a DataFrame.\n",
      "Try using .loc[row_indexer,col_indexer] = value instead\n",
      "\n",
      "See the caveats in the documentation: https://pandas.pydata.org/pandas-docs/stable/user_guide/indexing.html#returning-a-view-versus-a-copy\n",
      "  confidence_filtered_data_80[cultivation] = (\n",
      "C:\\Users\\human\\AppData\\Local\\Temp\\ipykernel_7648\\2016825129.py:16: SettingWithCopyWarning: \n",
      "A value is trying to be set on a copy of a slice from a DataFrame.\n",
      "Try using .loc[row_indexer,col_indexer] = value instead\n",
      "\n",
      "See the caveats in the documentation: https://pandas.pydata.org/pandas-docs/stable/user_guide/indexing.html#returning-a-view-versus-a-copy\n",
      "  confidence_filtered_data_80[cultivation] = (\n",
      "C:\\Users\\human\\AppData\\Local\\Temp\\ipykernel_7648\\2016825129.py:16: SettingWithCopyWarning: \n",
      "A value is trying to be set on a copy of a slice from a DataFrame.\n",
      "Try using .loc[row_indexer,col_indexer] = value instead\n",
      "\n",
      "See the caveats in the documentation: https://pandas.pydata.org/pandas-docs/stable/user_guide/indexing.html#returning-a-view-versus-a-copy\n",
      "  confidence_filtered_data_80[cultivation] = (\n",
      "C:\\Users\\human\\AppData\\Local\\Temp\\ipykernel_7648\\2016825129.py:16: SettingWithCopyWarning: \n",
      "A value is trying to be set on a copy of a slice from a DataFrame.\n",
      "Try using .loc[row_indexer,col_indexer] = value instead\n",
      "\n",
      "See the caveats in the documentation: https://pandas.pydata.org/pandas-docs/stable/user_guide/indexing.html#returning-a-view-versus-a-copy\n",
      "  confidence_filtered_data_80[cultivation] = (\n"
     ]
    }
   ],
   "source": [
    "from sklearn.model_selection import train_test_split\n",
    "from sklearn.ensemble import RandomForestRegressor\n",
    "from sklearn.metrics import mean_squared_error, r2_score, mean_absolute_error\n",
    "from sklearn.preprocessing import StandardScaler\n",
    "\n",
    "# 재배 유형 정의\n",
    "cultivation_periods = {\n",
    "    \"봄재배\": {\"planting\": [3, 4, 5, 6], \"harvesting\": [6, 7]},\n",
    "    \"가을재배\": {\"planting\": [8, 9, 10], \"harvesting\": [10, 11]},\n",
    "    \"월동재배\": {\"planting\": [10, 11], \"harvesting\": [3, 4, 5]},\n",
    "    \"여름재배\": {\"planting\": [6, 7, 8], \"harvesting\": [9, 10]}\n",
    "}\n",
    "\n",
    "# 각 재배 유형에 대해 파종 및 수확 여부를 나타내는 열 추가\n",
    "for cultivation, periods in cultivation_periods.items():\n",
    "    confidence_filtered_data_80[cultivation] = (\n",
    "        confidence_filtered_data_80['Month'].isin(periods['planting'] + periods['harvesting'])\n",
    "    ).astype(int)\n",
    "\n",
    "# '도매시장' 열 원-핫 인코딩 수행\n",
    "filtered_data_80 = pd.get_dummies(confidence_filtered_data_80, columns=['도매시장'], prefix='Market')\n",
    "\n",
    "# 피처(feature)와 타겟(target) 선택\n",
    "features = [\n",
    "    '1kg_물량', '평균기온', '평균풍속', '평균강수량'\n",
    "] + list(cultivation_periods.keys()) + [col for col in filtered_data_80.columns if col.startswith('Market_')]\n",
    "X = filtered_data_80[features]\n",
    "y = filtered_data_80['1kg_평균가격']\n",
    "\n",
    "# 결측값 처리: 결측값이 포함된 행 제거\n",
    "X = X.dropna()\n",
    "y = y.loc[X.index]\n",
    "\n",
    "# 피처 스케일링: 데이터 정규화를 위해 StandardScaler 사용\n",
    "scaler = StandardScaler()\n",
    "X_scaled = scaler.fit_transform(X)\n",
    "\n",
    "# 데이터를 학습용(80%)과 테스트용(20%)으로 분리\n",
    "X_train, X_test, y_train, y_test = train_test_split(X_scaled, y, test_size=0.2, random_state=42)\n",
    "\n"
   ]
  },
  {
   "cell_type": "markdown",
   "metadata": {},
   "source": [
    "# 랜덤 포레스트"
   ]
  },
  {
   "cell_type": "code",
   "execution_count": 148,
   "metadata": {},
   "outputs": [
    {
     "data": {
      "text/plain": [
       "(np.float64(129.8340128903395),\n",
       " np.float64(28667.15072789447),\n",
       " np.float64(169.3137641418868),\n",
       " 0.3915404993946303)"
      ]
     },
     "execution_count": 148,
     "metadata": {},
     "output_type": "execute_result"
    }
   ],
   "source": [
    "# 랜덤 포레스트 모델 초기화 및 학습\n",
    "rf_model = RandomForestRegressor(random_state=42)\n",
    "rf_model.fit(X_train, y_train)\n",
    "\n",
    "# 테스트 데이터로 예측 수행\n",
    "y_pred = rf_model.predict(X_test)\n",
    "\n",
    "# 평가 지표 계산\n",
    "mae = mean_absolute_error(y_test, y_pred)\n",
    "mse = mean_squared_error(y_test, y_pred)\n",
    "rmse = np.sqrt(mse)\n",
    "r2 = r2_score(y_test, y_pred)\n",
    "\n",
    "# 평가 결과 출력\n",
    "mae, mse, rmse, r2"
   ]
  },
  {
   "cell_type": "code",
   "execution_count": 149,
   "metadata": {},
   "outputs": [
    {
     "data": {
      "text/plain": [
       "(np.float64(639.6492956891403), np.float64(0.20297687149090024))"
      ]
     },
     "execution_count": 149,
     "metadata": {},
     "output_type": "execute_result"
    }
   ],
   "source": [
    "target_mean = y.mean()\n",
    "\n",
    "mae_ratio = mae / target_mean\n",
    "\n",
    "target_mean, mae_ratio"
   ]
  },
  {
   "cell_type": "markdown",
   "metadata": {},
   "source": [
    "# XGBoost"
   ]
  },
  {
   "cell_type": "code",
   "execution_count": 150,
   "metadata": {},
   "outputs": [
    {
     "data": {
      "text/plain": [
       "(np.float64(130.9840330954913),\n",
       " np.float64(28201.557043923094),\n",
       " np.float64(167.93319220429026),\n",
       " 0.4014227127726965)"
      ]
     },
     "execution_count": 150,
     "metadata": {},
     "output_type": "execute_result"
    }
   ],
   "source": [
    "from xgboost import XGBRegressor\n",
    "\n",
    "# 랜덤 포레스트 모델 초기화 및 학습\n",
    "xgb_model = XGBRegressor(random_state=42, objective='reg:squarederror')\n",
    "xgb_model.fit(X_train, y_train)\n",
    "\n",
    "# 테스트 데이터로 예측 수행\n",
    "y_pred = xgb_model.predict(X_test)\n",
    "\n",
    "# 평가 지표 계산\n",
    "mae = mean_absolute_error(y_test, y_pred)\n",
    "mse = mean_squared_error(y_test, y_pred)\n",
    "rmse = np.sqrt(mse)\n",
    "r2 = r2_score(y_test, y_pred)\n",
    "\n",
    "# 평가 결과 출력\n",
    "mae, mse, rmse, r2"
   ]
  },
  {
   "cell_type": "markdown",
   "metadata": {},
   "source": [
    "# 로그"
   ]
  },
  {
   "cell_type": "code",
   "execution_count": 151,
   "metadata": {},
   "outputs": [
    {
     "name": "stderr",
     "output_type": "stream",
     "text": [
      "C:\\Users\\human\\AppData\\Local\\Temp\\ipykernel_7648\\3434969813.py:11: DeprecationWarning: DataFrameGroupBy.apply operated on the grouping columns. This behavior is deprecated, and in a future version of pandas the grouping columns will be excluded from the operation. Either pass `include_groups=False` to exclude the groupings or explicitly select the grouping columns after groupby to silence this warning.\n",
      "  filtered_cabbage_df_no_outliers_1 = filtered_cabbage_df.groupby(['Month', '도매시장', '산지-광역시도'], group_keys=False).apply(remove_outliers_iqr, column='1kg_평균가격')\n",
      "C:\\Users\\human\\AppData\\Local\\Temp\\ipykernel_7648\\3434969813.py:16: DeprecationWarning: DataFrameGroupBy.apply operated on the grouping columns. This behavior is deprecated, and in a future version of pandas the grouping columns will be excluded from the operation. Either pass `include_groups=False` to exclude the groupings or explicitly select the grouping columns after groupby to silence this warning.\n",
      "  filtered_cabbage_df_log = filtered_cabbage_df_no_outliers_1.groupby(['Month', '도매시장', '산지-광역시도'], group_keys=False).apply(remove_outliers_iqr, column='log_1kg_평균가격')\n"
     ]
    }
   ],
   "source": [
    "# 1차: 월별, 도매시장별, 산지-광역시도별로 IQR을 이용한 이상치 제거\n",
    "def remove_outliers_iqr(group, column):\n",
    "    Q1 = group[column].quantile(0.25)\n",
    "    Q3 = group[column].quantile(0.75)\n",
    "    IQR = Q3 - Q1\n",
    "    lower_bound = Q1 - 1.5 * IQR\n",
    "    upper_bound = Q3 + 1.5 * IQR\n",
    "    return group[(group[column] >= lower_bound) & (group[column] <= upper_bound)]\n",
    "\n",
    "# 그룹화하여 1차 이상치 제거\n",
    "filtered_cabbage_df_no_outliers_1 = filtered_cabbage_df.groupby(['Month', '도매시장', '산지-광역시도'], group_keys=False).apply(remove_outliers_iqr, column='1kg_평균가격')\n",
    "\n",
    "# 2차: 로그 변환 적용 후 이상치 제거\n",
    "filtered_cabbage_df_no_outliers_1['log_1kg_평균가격'] = np.log1p(filtered_cabbage_df_no_outliers_1['1kg_평균가격'])  # 로그 변환\n",
    "\n",
    "filtered_cabbage_df_log = filtered_cabbage_df_no_outliers_1.groupby(['Month', '도매시장', '산지-광역시도'], group_keys=False).apply(remove_outliers_iqr, column='log_1kg_평균가격')\n",
    "\n"
   ]
  },
  {
   "cell_type": "code",
   "execution_count": 152,
   "metadata": {},
   "outputs": [],
   "source": [
    "from sklearn.model_selection import train_test_split\n",
    "from sklearn.ensemble import RandomForestRegressor\n",
    "from sklearn.metrics import mean_squared_error, r2_score, mean_absolute_error\n",
    "from sklearn.preprocessing import StandardScaler, MinMaxScaler\n",
    "\n",
    "# 재배 유형 정의\n",
    "cultivation_periods = {\n",
    "    \"봄재배\": {\"planting\": [3, 4, 5, 6], \"harvesting\": [6, 7]},\n",
    "    \"가을재배\": {\"planting\": [9, 10], \"harvesting\": [10, 11]},\n",
    "    \"월동재배\": {\"planting\": [9, 10, 11], \"harvesting\": [3, 4, 5]},\n",
    "    \"여름재배\": {\"planting\": [6, 7, 8], \"harvesting\": [9, 10]}\n",
    "}\n",
    "\n",
    "# 각 재배 유형에 대해 파종 및 수확 여부를 나타내는 열 추가\n",
    "for cultivation, periods in cultivation_periods.items():\n",
    "    filtered_cabbage_df_log[cultivation] = (\n",
    "        filtered_cabbage_df_log['Month'].isin(periods['planting'] + periods['harvesting'])\n",
    "    ).astype(int)\n",
    "\n",
    "# '도매시장' 열 원-핫 인코딩 수행\n",
    "filtered_data_80 = pd.get_dummies(filtered_cabbage_df_log, columns=['도매시장'], prefix='Market')\n",
    "\n",
    "# 피처(feature)와 타겟(target) 선택\n",
    "features = [\n",
    "    '1kg_물량', '평균기온', '평균풍속', '평균강수량'\n",
    "] + list(cultivation_periods.keys()) + [col for col in filtered_data_80.columns if col.startswith('Market_')]\n",
    "X = filtered_data_80[features]\n",
    "y = filtered_data_80['1kg_평균가격']\n",
    "\n",
    "# 결측값 처리: 결측값이 포함된 행 제거\n",
    "X = X.dropna()\n",
    "y = y.loc[X.index]\n",
    "\n",
    "# 피처 스케일링: 데이터 정규화를 위해 StandardScaler 사용\n",
    "scaler = StandardScaler()\n",
    "X_scaled = scaler.fit_transform(X)\n",
    "\n",
    "# 데이터를 학습용(80%)과 테스트용(20%)으로 분리\n",
    "X_train, X_test, y_train, y_test = train_test_split(X_scaled, y, test_size=0.2, random_state=42)"
   ]
  },
  {
   "cell_type": "code",
   "execution_count": 153,
   "metadata": {},
   "outputs": [
    {
     "data": {
      "text/plain": [
       "(np.float64(170.97903660002737),\n",
       " np.float64(65113.221925301885),\n",
       " np.float64(255.17292553345445),\n",
       " 0.5232280694588152)"
      ]
     },
     "execution_count": 153,
     "metadata": {},
     "output_type": "execute_result"
    }
   ],
   "source": [
    "# 랜덤 포레스트 모델 초기화 및 학습\n",
    "rf_model = RandomForestRegressor(random_state=42)\n",
    "rf_model.fit(X_train, y_train)\n",
    "\n",
    "# 테스트 데이터로 예측 수행\n",
    "y_pred = rf_model.predict(X_test)\n",
    "\n",
    "# 평가 지표 계산\n",
    "mae = mean_absolute_error(y_test, y_pred)\n",
    "mse = mean_squared_error(y_test, y_pred)\n",
    "rmse = np.sqrt(mse)\n",
    "r2 = r2_score(y_test, y_pred)\n",
    "\n",
    "# 평가 결과 출력\n",
    "mae, mse, rmse, r2"
   ]
  },
  {
   "cell_type": "markdown",
   "metadata": {},
   "source": [
    "# 1 진행중"
   ]
  },
  {
   "cell_type": "code",
   "execution_count": 154,
   "metadata": {},
   "outputs": [],
   "source": [
    "import pandas as pd\n",
    "import numpy as np\n",
    "import matplotlib.pyplot as plt\n",
    "import seaborn as sns"
   ]
  },
  {
   "cell_type": "code",
   "execution_count": 165,
   "metadata": {},
   "outputs": [],
   "source": [
    "data = pd.read_csv(\"data-files/filtered_90_percent_confidence.csv\")\n",
    "\n",
    "data['Year'] = pd.to_datetime(data['DATE']).dt.year"
   ]
  },
  {
   "cell_type": "markdown",
   "metadata": {},
   "source": [
    "# get_dummies"
   ]
  },
  {
   "cell_type": "code",
   "execution_count": 169,
   "metadata": {},
   "outputs": [
    {
     "name": "stderr",
     "output_type": "stream",
     "text": [
      "c:\\Users\\human\\anaconda3\\envs\\human-da-env\\Lib\\site-packages\\sklearn\\metrics\\_regression.py:492: FutureWarning: 'squared' is deprecated in version 1.4 and will be removed in 1.6. To calculate the root mean squared error, use the function'root_mean_squared_error'.\n",
      "  warnings.warn(\n"
     ]
    },
    {
     "data": {
      "text/plain": [
       "{'MAE': np.float64(45.31967558998742),\n",
       " 'RMSE': np.float64(86.44003903983291),\n",
       " 'R-squared': 0.825191363641721}"
      ]
     },
     "execution_count": 169,
     "metadata": {},
     "output_type": "execute_result"
    }
   ],
   "source": [
    "from sklearn.model_selection import train_test_split\n",
    "from sklearn.ensemble import RandomForestRegressor\n",
    "from sklearn.metrics import mean_squared_error, r2_score, mean_absolute_error\n",
    "from sklearn.preprocessing import StandardScaler\n",
    "\n",
    "cultivation_seasons = {\n",
    "    '봄재배': {'파종기': [3, 4], '정식기': [4, 5], '수확기': [7, 8]},\n",
    "    '가을재배': {'파종기': [7], '정식기': [8], '수확기': [10, 11]},\n",
    "    '월동재배': {'파종기': [9], '정식기': [10], '수확기': [3, 4, 5]},\n",
    "    '여름재배': {'파종기': [5, 6], '정식기': [6, 7], '수확기': [9]}\n",
    "}\n",
    "\n",
    "# 결과 저장을 위한 데이터프레임 초기화\n",
    "model_data = pd.DataFrame()\n",
    "\n",
    "# 재배 방식 정보를 1 또는 0으로 표시\n",
    "for season, periods in cultivation_seasons.items():\n",
    "    # 입력 데이터 생성 (파종기 및 정식기)\n",
    "    input_data = data[data['Month'].isin(periods['파종기'] + periods['정식기'])].copy()\n",
    "    input_data[f'{season}_여부'] = 1  # 해당 재배 방식 여부를 1로 표시\n",
    "    \n",
    "    # 나머지 데이터에 대해서는 0으로 설정\n",
    "    input_data = data.assign(**{f'{season}_여부': data['Month'].apply(\n",
    "        lambda x: 1 if x in (periods['파종기'] + periods['정식기']) else 0)})\n",
    "\n",
    "    # 타겟 데이터 생성 (수확기)\n",
    "    target_data = data[data['Month'].isin(periods['수확기'])]\n",
    "    target_values = target_data.groupby(['Year', '도매시장', '산지-광역시도'])['1kg_평균가격'].mean().reset_index()\n",
    "    target_values.rename(columns={'1kg_평균가격': '타겟값'}, inplace=True)\n",
    "    \n",
    "    # 입력 데이터와 타겟 데이터 병합\n",
    "    season_data = pd.merge(input_data, target_values, on=['Year', '도매시장', '산지-광역시도'], how='inner')\n",
    "    model_data = pd.concat([model_data, season_data], ignore_index=True)\n",
    "\n",
    "\n",
    "# 입력 변수(X)와 타겟값(y) 분리\n",
    "X = model_data[['평균기온', '평균풍속', '평균강수량', '봄재배_여부', '여름재배_여부', '가을재배_여부', '월동재배_여부','도매시장','산지-광역시도']]\n",
    "y = model_data['타겟값']\n",
    "\n",
    "# 범주형 데이터 (도매시장, 산지-광역시도)에 대해 원-핫 인코딩\n",
    "X = pd.get_dummies(X, columns=['도매시장', '산지-광역시도'], drop_first=True)\n",
    "\n",
    "# 모델 생성 및 성능 평가\n",
    "# 데이터 분리\n",
    "X_train, X_test, y_train, y_test = train_test_split(X, y, test_size=0.2, random_state=42)\n",
    "\n",
    "# 모델 생성 및 학습\n",
    "model = RandomForestRegressor(random_state=42, n_estimators=100)\n",
    "model.fit(X_train, y_train)\n",
    "\n",
    "# 예측\n",
    "y_pred = model.predict(X_test)\n",
    "\n",
    "# 평가\n",
    "mae = mean_absolute_error(y_test, y_pred)\n",
    "rmse = mean_squared_error(y_test, y_pred, squared=False)\n",
    "r2 = r2_score(y_test, y_pred)\n",
    "\n",
    "# 결과 저장 및 표시\n",
    "performance_metrics = {\n",
    "    \"MAE\": mae,\n",
    "    \"RMSE\": rmse,\n",
    "    \"R-squared\": r2\n",
    "}\n",
    "\n",
    "performance_metrics"
   ]
  },
  {
   "cell_type": "markdown",
   "metadata": {},
   "source": [
    "# 원-핫"
   ]
  },
  {
   "cell_type": "code",
   "execution_count": 164,
   "metadata": {},
   "outputs": [
    {
     "name": "stdout",
     "output_type": "stream",
     "text": [
      "<class 'pandas.core.frame.DataFrame'>\n",
      "DatetimeIndex: 15947 entries, 2021-01-01 to 2021-12-01\n",
      "Data columns (total 14 columns):\n",
      " #   Column          Non-Null Count  Dtype  \n",
      "---  ------          --------------  -----  \n",
      " 0   거래단위            15947 non-null  object \n",
      " 1   도매시장            15947 non-null  object \n",
      " 2   산지-광역시도         15947 non-null  object \n",
      " 3   등급              15947 non-null  object \n",
      " 4   단위_무게(kg)       15947 non-null  int64  \n",
      " 5   1kg_물량          15947 non-null  int64  \n",
      " 6   1kg_평균가격        15947 non-null  float64\n",
      " 7   weighted_price  15947 non-null  float64\n",
      " 8   광역시도            15947 non-null  object \n",
      " 9   평균기온            15947 non-null  float64\n",
      " 10  평균풍속            15947 non-null  float64\n",
      " 11  평균강수량           15947 non-null  float64\n",
      " 12  Month           15947 non-null  int64  \n",
      " 13  z_score         15947 non-null  float64\n",
      "dtypes: float64(6), int64(3), object(5)\n",
      "memory usage: 1.8+ MB\n"
     ]
    }
   ],
   "source": [
    "data.info()"
   ]
  },
  {
   "cell_type": "code",
   "execution_count": 166,
   "metadata": {},
   "outputs": [
    {
     "name": "stdout",
     "output_type": "stream",
     "text": [
      "중복 여부 확인: True\n"
     ]
    },
    {
     "name": "stderr",
     "output_type": "stream",
     "text": [
      "c:\\Users\\human\\anaconda3\\envs\\human-da-env\\Lib\\site-packages\\sklearn\\metrics\\_regression.py:492: FutureWarning: 'squared' is deprecated in version 1.4 and will be removed in 1.6. To calculate the root mean squared error, use the function'root_mean_squared_error'.\n",
      "  warnings.warn(\n"
     ]
    },
    {
     "data": {
      "text/plain": [
       "{'MAE': np.float64(121.6131713088262),\n",
       " 'RMSE': np.float64(162.32532751094973),\n",
       " 'R-squared': 0.42970635447907235}"
      ]
     },
     "execution_count": 166,
     "metadata": {},
     "output_type": "execute_result"
    }
   ],
   "source": [
    "# 결과 저장을 위한 데이터프레임 초기화\n",
    "model_data = pd.DataFrame()\n",
    "\n",
    "cultivation_seasons = {\n",
    "    '봄재배': {'파종기': [3, 4], '정식기': [4, 5], '수확기': [7, 8]},\n",
    "    '가을재배': {'파종기': [7], '정식기': [8], '수확기': [10, 11]},\n",
    "    '월동재배': {'파종기': [9], '정식기': [10], '수확기': [3, 4, 5]},\n",
    "    '여름재배': {'파종기': [5, 6], '정식기': [6, 7], '수확기': [9]}\n",
    "}\n",
    "\n",
    "# 재배 방식 정보를 추가 (월동재배의 수확기 연도 조정 포함)\n",
    "for season, periods in cultivation_seasons.items():\n",
    "    # 입력 데이터 생성 (파종기 및 정식기)\n",
    "    input_data = data[data['Month'].isin(periods['파종기'] + periods['정식기'])].copy()\n",
    "    input_data['재배방식'] = season  # 해당 재배 방식 추가\n",
    "    \n",
    "    # 타겟 데이터 생성 (수확기)\n",
    "    target_data = data[data['Month'].isin(periods['수확기'])].copy()\n",
    "    \n",
    "    # 월동재배의 수확기 연도 조정\n",
    "    if season == '월동재배':\n",
    "        target_data['Year'] += 1  # 수확기는 다음 연도로 설정\n",
    "    \n",
    "    # 타겟값 계산\n",
    "    target_values = target_data.groupby(['Year', '도매시장', '산지-광역시도'])['1kg_평균가격'].mean().reset_index()\n",
    "    target_values.rename(columns={'1kg_평균가격': '타겟값'}, inplace=True)\n",
    "    \n",
    "    # 입력 데이터와 타겟 데이터 병합\n",
    "    season_data = pd.merge(input_data, target_values, on=['Year', '도매시장', '산지-광역시도'], how='inner')\n",
    "    model_data = pd.concat([model_data, season_data], ignore_index=True)\n",
    "\n",
    "duplicate_check = model_data.duplicated(subset=['Year', 'Month', '도매시장', '산지-광역시도'])\n",
    "print(\"중복 여부 확인:\", duplicate_check.any())\n",
    "\n",
    "# 중복 데이터 제거 (필요 시)\n",
    "model_data = model_data.drop_duplicates(subset=['Year', 'Month', '도매시장', '산지-광역시도'])\n",
    "\n",
    "# 입력 변수(X)와 타겟값(y) 분리\n",
    "X = model_data[['평균기온', '평균풍속', '평균강수량', '재배방식', '도매시장', '산지-광역시도']]\n",
    "y = model_data['타겟값']\n",
    "\n",
    "\n",
    "# 재배 방식에 대해 원-핫 인코딩 (3개의 열 생성)\n",
    "X = pd.get_dummies(X, columns=['재배방식', '도매시장', '산지-광역시도'], drop_first=True)\n",
    "\n",
    "# 데이터 분리\n",
    "X_train, X_test, y_train, y_test = train_test_split(X, y, test_size=0.2, random_state=42)\n",
    "\n",
    "# 모델 생성 및 학습\n",
    "model = RandomForestRegressor(random_state=42, n_estimators=100)\n",
    "model.fit(X_train, y_train)\n",
    "\n",
    "# 예측\n",
    "y_pred = model.predict(X_test)\n",
    "\n",
    "# 평가\n",
    "mae = mean_absolute_error(y_test, y_pred)\n",
    "rmse = mean_squared_error(y_test, y_pred, squared=False)\n",
    "r2 = r2_score(y_test, y_pred)\n",
    "\n",
    "# 결과 저장 및 표시\n",
    "performance_metrics = {\n",
    "    \"MAE\": mae,\n",
    "    \"RMSE\": rmse,\n",
    "    \"R-squared\": r2\n",
    "}\n",
    "\n",
    "performance_metrics"
   ]
  },
  {
   "cell_type": "markdown",
   "metadata": {},
   "source": [
    "# 시계열 모델 SARIMA"
   ]
  },
  {
   "cell_type": "markdown",
   "metadata": {},
   "source": [
    "# 정상성 확인"
   ]
  },
  {
   "cell_type": "code",
   "execution_count": 158,
   "metadata": {},
   "outputs": [
    {
     "name": "stdout",
     "output_type": "stream",
     "text": [
      "데이터는 정상성을 만족합니다.\n"
     ]
    },
    {
     "name": "stderr",
     "output_type": "stream",
     "text": [
      "C:\\Users\\human\\AppData\\Local\\Temp\\ipykernel_7648\\2778426093.py:18: FutureWarning: 'M' is deprecated and will be removed in a future version, please use 'ME' instead.\n",
      "  price_series = data['1kg_평균가격'].resample('M').mean()\n"
     ]
    }
   ],
   "source": [
    "# 필요한 라이브러리 불러오기\n",
    "import pandas as pd\n",
    "import numpy as np\n",
    "import matplotlib.pyplot as plt\n",
    "from statsmodels.tsa.statespace.sarimax import SARIMAX\n",
    "from statsmodels.tsa.stattools import adfuller\n",
    "from sklearn.metrics import mean_absolute_error, mean_squared_error\n",
    "\n",
    "# 데이터 불러오기\n",
    "data = pd.read_csv('D:/humanda/pjt-02/Mook/data-files/filtered_80_percent_confidence.csv')\n",
    "\n",
    "# 1. 데이터 준비\n",
    "# 날짜 열을 시계열 인덱스로 변환\n",
    "data['DATE'] = pd.to_datetime(data['DATE'])\n",
    "data.set_index('DATE', inplace=True)\n",
    "\n",
    "# 월별 평균값 계산 (1kg 평균가격)\n",
    "price_series = data['1kg_평균가격'].resample('M').mean()\n",
    "\n",
    "# 2. 정상성 확인 (ADF 테스트)\n",
    "adf_test = adfuller(price_series.dropna())\n",
    "if adf_test[1] < 0.05:\n",
    "    print(\"데이터는 정상성을 만족합니다.\")\n",
    "else:\n",
    "    print(\"데이터는 정상성을 만족하지 않습니다. 차분이 필요합니다.\")\n"
   ]
  },
  {
   "cell_type": "markdown",
   "metadata": {},
   "source": [
    "# SARIMA 모델 학습 및 평가"
   ]
  },
  {
   "cell_type": "code",
   "execution_count": 159,
   "metadata": {},
   "outputs": [
    {
     "name": "stderr",
     "output_type": "stream",
     "text": [
      "c:\\Users\\human\\anaconda3\\envs\\human-da-env\\Lib\\site-packages\\statsmodels\\tsa\\statespace\\sarimax.py:1009: UserWarning: Non-invertible starting seasonal moving average Using zeros as starting parameters.\n",
      "  warn('Non-invertible starting seasonal moving average'\n"
     ]
    },
    {
     "name": "stdout",
     "output_type": "stream",
     "text": [
      "SARIMA 모델 평가 결과: {'MAE': np.float64(122.99652667593595), 'RMSE': np.float64(167.65297722676146), 'MAPE (%)': np.float64(20.398846038778903)}\n"
     ]
    },
    {
     "name": "stderr",
     "output_type": "stream",
     "text": [
      "c:\\Users\\human\\anaconda3\\envs\\human-da-env\\Lib\\site-packages\\sklearn\\metrics\\_regression.py:492: FutureWarning: 'squared' is deprecated in version 1.4 and will be removed in 1.6. To calculate the root mean squared error, use the function'root_mean_squared_error'.\n",
      "  warnings.warn(\n"
     ]
    }
   ],
   "source": [
    "# 3. SARIMA 모델 학습\n",
    "# SARIMA 모델 설정 및 학습 (p, d, q = 1, 1, 1 / P, D, Q, S = 1, 1, 1, 12)\n",
    "model = SARIMAX(price_series, order=(1, 1, 1), seasonal_order=(1, 1, 1, 12))\n",
    "sarima_result = model.fit(disp=False)\n",
    "\n",
    "# 4. 예측 생성\n",
    "forecast_steps = 12  # 12개월 예측\n",
    "forecast = sarima_result.get_forecast(steps=forecast_steps)\n",
    "\n",
    "# 예측값과 신뢰 구간\n",
    "forecast_values = forecast.predicted_mean\n",
    "confidence_intervals = forecast.conf_int()\n",
    "\n",
    "# 5. 모델 평가\n",
    "# 훈련 데이터에 대한 예측값 생성\n",
    "train_pred = sarima_result.fittedvalues\n",
    "\n",
    "# 평가 지표 계산\n",
    "mae = mean_absolute_error(price_series.dropna(), train_pred)\n",
    "rmse = mean_squared_error(price_series.dropna(), train_pred, squared=False)\n",
    "mape = (np.abs((price_series.dropna() - train_pred) / price_series.dropna()) * 100).mean()\n",
    "\n",
    "# 평가 결과 출력\n",
    "evaluation_results = {\n",
    "    \"MAE\": mae,\n",
    "    \"RMSE\": rmse,\n",
    "    \"MAPE (%)\": mape\n",
    "}\n",
    "print(\"SARIMA 모델 평가 결과:\", evaluation_results)"
   ]
  },
  {
   "cell_type": "code",
   "execution_count": 160,
   "metadata": {},
   "outputs": [
    {
     "data": {
      "image/png": "[encoded data removed]",
      "text/plain": [
       "<Figure size 1200x600 with 1 Axes>"
      ]
     },
     "metadata": {},
     "output_type": "display_data"
    }
   ],
   "source": [
    "#한글\n",
    "import matplotlib.pyplot as plt\n",
    "plt.rcParams['font.family'] ='Malgun Gothic'\n",
    "plt.rcParams['axes.unicode_minus'] =False\n",
    "\n",
    "# 6. 시각화\n",
    "plt.figure(figsize=(12, 6))\n",
    "plt.plot(price_series, label='실제 값', color='blue')  # 실제값\n",
    "plt.plot(forecast_values.index, forecast_values, label='예측 값', color='orange', linestyle='--')  # 예측값\n",
    "plt.fill_between(forecast_values.index, \n",
    "                 confidence_intervals.iloc[:, 0], \n",
    "                 confidence_intervals.iloc[:, 1], \n",
    "                 color='orange', alpha=0.2, label='신뢰 구간')  # 신뢰 구간\n",
    "plt.title('SARIMA 모델 예측 결과 (1kg 평균가격)', fontsize=16)\n",
    "plt.xlabel('날짜', fontsize=14)\n",
    "plt.ylabel('1kg 평균가격', fontsize=14)\n",
    "plt.legend()\n",
    "plt.grid(alpha=0.5)\n",
    "plt.show()"
   ]
  },
  {
   "cell_type": "markdown",
   "metadata": {},
   "source": [
    "# ETS 모델"
   ]
  },
  {
   "cell_type": "code",
   "execution_count": null,
   "metadata": {},
   "outputs": [
    {
     "name": "stderr",
     "output_type": "stream",
     "text": [
      "c:\\Users\\human\\anaconda3\\envs\\human-da-env\\Lib\\site-packages\\sklearn\\metrics\\_regression.py:492: FutureWarning: 'squared' is deprecated in version 1.4 and will be removed in 1.6. To calculate the root mean squared error, use the function'root_mean_squared_error'.\n",
      "  warnings.warn(\n"
     ]
    },
    {
     "ename": "NameError",
     "evalue": "name 'ets_test_pred' is not defined",
     "output_type": "error",
     "traceback": [
      "\u001b[1;31m---------------------------------------------------------------------------\u001b[0m",
      "\u001b[1;31mNameError\u001b[0m                                 Traceback (most recent call last)",
      "Cell \u001b[1;32mIn[181], line 19\u001b[0m\n\u001b[0;32m     16\u001b[0m ets_rmse \u001b[38;5;241m=\u001b[39m mean_squared_error(price_series\u001b[38;5;241m.\u001b[39mdropna(), ets_train_pred, squared\u001b[38;5;241m=\u001b[39m\u001b[38;5;28;01mFalse\u001b[39;00m)\n\u001b[0;32m     17\u001b[0m ets_mape \u001b[38;5;241m=\u001b[39m (np\u001b[38;5;241m.\u001b[39mabs((price_series\u001b[38;5;241m.\u001b[39mdropna() \u001b[38;5;241m-\u001b[39m ets_train_pred) \u001b[38;5;241m/\u001b[39m price_series\u001b[38;5;241m.\u001b[39mdropna()) \u001b[38;5;241m*\u001b[39m \u001b[38;5;241m100\u001b[39m)\u001b[38;5;241m.\u001b[39mmean()\n\u001b[1;32m---> 19\u001b[0m ets_mae_1 \u001b[38;5;241m=\u001b[39m mean_absolute_error(price_series\u001b[38;5;241m.\u001b[39mdropna(), \u001b[43mets_test_pred\u001b[49m)\n\u001b[0;32m     20\u001b[0m ets_rmse_1 \u001b[38;5;241m=\u001b[39m mean_squared_error(price_series\u001b[38;5;241m.\u001b[39mdropna(), ets_test_pred, squared\u001b[38;5;241m=\u001b[39m\u001b[38;5;28;01mFalse\u001b[39;00m)\n\u001b[0;32m     21\u001b[0m ets_mape_1 \u001b[38;5;241m=\u001b[39m (np\u001b[38;5;241m.\u001b[39mabs((price_series\u001b[38;5;241m.\u001b[39mdropna() \u001b[38;5;241m-\u001b[39m ets_test_pred) \u001b[38;5;241m/\u001b[39m price_series\u001b[38;5;241m.\u001b[39mdropna()) \u001b[38;5;241m*\u001b[39m \u001b[38;5;241m100\u001b[39m)\u001b[38;5;241m.\u001b[39mmean()\n",
      "\u001b[1;31mNameError\u001b[0m: name 'ets_test_pred' is not defined"
     ]
    }
   ],
   "source": [
    "from statsmodels.tsa.holtwinters import ExponentialSmoothing\n",
    "\n",
    "# 1. ETS 모델 학습\n",
    "# 계절성(12개월), 추세, 그리고 데이터 수준을 고려\n",
    "ets_model = ExponentialSmoothing(price_series, trend=\"add\", seasonal=\"add\", seasonal_periods=12)\n",
    "ets_result = ets_model.fit()\n",
    "\n",
    "# 2. 예측 생성 (향후 12개월)\n",
    "ets_forecast = ets_result.forecast(steps=12)\n",
    "\n",
    "# 3. 모델 평가 (훈련 데이터 내)\n",
    "ets_train_pred = ets_result.fittedvalues\n",
    "\n",
    "# 평가 지표 계산\n",
    "ets_mae = mean_absolute_error(price_series.dropna(), ets_train_pred)\n",
    "ets_rmse = mean_squared_error(price_series.dropna(), ets_train_pred, squared=False)\n",
    "ets_mape = (np.abs((price_series.dropna() - ets_train_pred) / price_series.dropna()) * 100).mean()\n",
    "\n",
    "# 평가 결과\n",
    "ets_evaluation_results = {\n",
    "    \"MAE\": ets_mae,\n",
    "    \"RMSE\": ets_rmse,\n",
    "    \"MAPE (%)\": ets_mape\n",
    "}\n",
    "\n",
    "print(\"ETS 모델 평가 결과:\", ets_evaluation_results)"
   ]
  },
  {
   "cell_type": "markdown",
   "metadata": {},
   "source": [
    "# SARIMA, ETS 결과 비교"
   ]
  },
  {
   "cell_type": "code",
   "execution_count": 162,
   "metadata": {},
   "outputs": [
    {
     "data": {
      "text/plain": [
       "{'SARIMA': {'MAE': np.float64(122.99652667593595),\n",
       "  'RMSE': np.float64(167.65297722676146),\n",
       "  'MAPE (%)': np.float64(20.398846038778903)},\n",
       " 'ETS': {'MAE': np.float64(77.66668570077782),\n",
       "  'RMSE': np.float64(95.98926932000644),\n",
       "  'MAPE (%)': np.float64(13.210717805292097)}}"
      ]
     },
     "execution_count": 162,
     "metadata": {},
     "output_type": "execute_result"
    }
   ],
   "source": [
    "# SARIMA 결과와 ETS 결과 비교\n",
    "comparison_results = {\n",
    "    \"SARIMA\": evaluation_results,\n",
    "    \"ETS\": ets_evaluation_results\n",
    "}\n",
    "\n",
    "comparison_results"
   ]
  },
  {
   "cell_type": "markdown",
   "metadata": {},
   "source": [
    "# 분류 모델"
   ]
  },
  {
   "cell_type": "code",
   "execution_count": 176,
   "metadata": {},
   "outputs": [],
   "source": [
    "seasons = {\n",
    "    'Spring_6': [3, 4, 5],\n",
    "    'Spring_7': [4, 5, 6],\n",
    "    'Summer_9': [6, 7, 8],\n",
    "    'Summer_8': [5, 6, 7],\n",
    "    'Autumn_10': [7, 8, 9],\n",
    "    'Autumn_11': [8, 9, 10],\n",
    "    'Winter_3': [9, 10, 11],\n",
    "    'Winter_4': [10, 11, 12],\n",
    "}\n",
    "\n",
    "# Initialize columns for each season and month combination\n",
    "for season in seasons:\n",
    "    data[season] = data['Month'].apply(lambda x: 1 if x in seasons[season] else 0)\n",
    "\n",
    "# Remove rows for January and February as they are not part of any harvest period\n",
    "filtered_data = data[~data['Month'].isin([1, 2])]\n"
   ]
  },
  {
   "cell_type": "code",
   "execution_count": null,
   "metadata": {},
   "outputs": [
    {
     "name": "stderr",
     "output_type": "stream",
     "text": [
      "C:\\Users\\human\\AppData\\Local\\Temp\\ipykernel_7648\\3048162134.py:21: SettingWithCopyWarning: \n",
      "A value is trying to be set on a copy of a slice from a DataFrame.\n",
      "Try using .loc[row_indexer,col_indexer] = value instead\n",
      "\n",
      "See the caveats in the documentation: https://pandas.pydata.org/pandas-docs/stable/user_guide/indexing.html#returning-a-view-versus-a-copy\n",
      "  filtered_data['Harvest_Target'] = filtered_data.apply(\n"
     ]
    }
   ],
   "source": [
    "# Calculate target average price for each harvest season based on the specified logic\n",
    "harvest_targets = {\n",
    "    'Spring_6': [6],\n",
    "    'Spring_7': [7],\n",
    "    'Summer_9': [9],\n",
    "    'Summer_8': [8],\n",
    "    'Autumn_10': [10],\n",
    "    'Autumn_11': [11],\n",
    "    'Winter_3': [3],\n",
    "    'Winter_4': [4],\n",
    "}\n",
    "\n",
    "# 그룹화하여 수확기별 평균 금액을 계산\n",
    "group_columns = ['도매시장', '산지-광역시도', 'Month']\n",
    "\n",
    "# 각 월별 평균 금액을 도매시장과 산지-광역시도별로 계산\n",
    "filtered_data['Harvest_Target'] = filtered_data.groupby(group_columns)['1kg_평균가격'].transform('mean')\n",
    "\n"
   ]
  },
  {
   "cell_type": "code",
   "execution_count": 178,
   "metadata": {},
   "outputs": [
    {
     "data": {
      "text/html": [
       "<div>\n",
       "<style scoped>\n",
       "    .dataframe tbody tr th:only-of-type {\n",
       "        vertical-align: middle;\n",
       "    }\n",
       "\n",
       "    .dataframe tbody tr th {\n",
       "        vertical-align: top;\n",
       "    }\n",
       "\n",
       "    .dataframe thead th {\n",
       "        text-align: right;\n",
       "    }\n",
       "</style>\n",
       "<table border=\"1\" class=\"dataframe\">\n",
       "  <thead>\n",
       "    <tr style=\"text-align: right;\">\n",
       "      <th></th>\n",
       "      <th>DATE</th>\n",
       "      <th>거래단위</th>\n",
       "      <th>도매시장</th>\n",
       "      <th>산지-광역시도</th>\n",
       "      <th>등급</th>\n",
       "      <th>단위_무게(kg)</th>\n",
       "      <th>1kg_물량</th>\n",
       "      <th>1kg_평균가격</th>\n",
       "      <th>weighted_price</th>\n",
       "      <th>광역시도</th>\n",
       "      <th>평균기온</th>\n",
       "      <th>평균풍속</th>\n",
       "      <th>평균강수량</th>\n",
       "      <th>Month</th>\n",
       "      <th>z_score</th>\n",
       "      <th>Year</th>\n",
       "      <th>Spring_6</th>\n",
       "      <th>Spring_7</th>\n",
       "      <th>Summer_9</th>\n",
       "      <th>Summer_8</th>\n",
       "      <th>Autumn_10</th>\n",
       "      <th>Autumn_11</th>\n",
       "      <th>Winter_3</th>\n",
       "      <th>Winter_4</th>\n",
       "      <th>Harvest_Target</th>\n",
       "    </tr>\n",
       "  </thead>\n",
       "  <tbody>\n",
       "    <tr>\n",
       "      <th>2390</th>\n",
       "      <td>2024-03-01</td>\n",
       "      <td>8kg그물망</td>\n",
       "      <td>강릉도매시장</td>\n",
       "      <td>경기도</td>\n",
       "      <td>특</td>\n",
       "      <td>8</td>\n",
       "      <td>512</td>\n",
       "      <td>1304.687500</td>\n",
       "      <td>668000.0</td>\n",
       "      <td>경기도</td>\n",
       "      <td>5.65</td>\n",
       "      <td>1.78</td>\n",
       "      <td>31.80</td>\n",
       "      <td>3</td>\n",
       "      <td>1.749984</td>\n",
       "      <td>2024</td>\n",
       "      <td>1</td>\n",
       "      <td>0</td>\n",
       "      <td>0</td>\n",
       "      <td>0</td>\n",
       "      <td>0</td>\n",
       "      <td>0</td>\n",
       "      <td>0</td>\n",
       "      <td>0</td>\n",
       "      <td>1304.687500</td>\n",
       "    </tr>\n",
       "    <tr>\n",
       "      <th>2391</th>\n",
       "      <td>2024-03-01</td>\n",
       "      <td>8kg파렛트</td>\n",
       "      <td>강릉도매시장</td>\n",
       "      <td>경기도</td>\n",
       "      <td>특</td>\n",
       "      <td>8</td>\n",
       "      <td>5184</td>\n",
       "      <td>969.907407</td>\n",
       "      <td>5028000.0</td>\n",
       "      <td>경기도</td>\n",
       "      <td>5.65</td>\n",
       "      <td>1.78</td>\n",
       "      <td>31.80</td>\n",
       "      <td>3</td>\n",
       "      <td>0.821994</td>\n",
       "      <td>2024</td>\n",
       "      <td>1</td>\n",
       "      <td>0</td>\n",
       "      <td>0</td>\n",
       "      <td>0</td>\n",
       "      <td>0</td>\n",
       "      <td>0</td>\n",
       "      <td>0</td>\n",
       "      <td>0</td>\n",
       "      <td>969.907407</td>\n",
       "    </tr>\n",
       "    <tr>\n",
       "      <th>2392</th>\n",
       "      <td>2024-03-01</td>\n",
       "      <td>8kg그물망</td>\n",
       "      <td>강릉도매시장</td>\n",
       "      <td>경상북도</td>\n",
       "      <td>특</td>\n",
       "      <td>8</td>\n",
       "      <td>320</td>\n",
       "      <td>1250.000000</td>\n",
       "      <td>400000.0</td>\n",
       "      <td>경상북도</td>\n",
       "      <td>6.33</td>\n",
       "      <td>2.10</td>\n",
       "      <td>68.05</td>\n",
       "      <td>3</td>\n",
       "      <td>1.598393</td>\n",
       "      <td>2024</td>\n",
       "      <td>1</td>\n",
       "      <td>0</td>\n",
       "      <td>0</td>\n",
       "      <td>0</td>\n",
       "      <td>0</td>\n",
       "      <td>0</td>\n",
       "      <td>0</td>\n",
       "      <td>0</td>\n",
       "      <td>1250.000000</td>\n",
       "    </tr>\n",
       "    <tr>\n",
       "      <th>2393</th>\n",
       "      <td>2021-03-01</td>\n",
       "      <td>8kg그물망</td>\n",
       "      <td>강릉도매시장</td>\n",
       "      <td>부산광역시</td>\n",
       "      <td>특</td>\n",
       "      <td>8</td>\n",
       "      <td>11520</td>\n",
       "      <td>469.444444</td>\n",
       "      <td>5408000.0</td>\n",
       "      <td>부산광역시</td>\n",
       "      <td>10.69</td>\n",
       "      <td>2.61</td>\n",
       "      <td>154.08</td>\n",
       "      <td>3</td>\n",
       "      <td>-0.565260</td>\n",
       "      <td>2021</td>\n",
       "      <td>1</td>\n",
       "      <td>0</td>\n",
       "      <td>0</td>\n",
       "      <td>0</td>\n",
       "      <td>0</td>\n",
       "      <td>0</td>\n",
       "      <td>0</td>\n",
       "      <td>0</td>\n",
       "      <td>469.444444</td>\n",
       "    </tr>\n",
       "    <tr>\n",
       "      <th>2394</th>\n",
       "      <td>2021-03-01</td>\n",
       "      <td>10kg그물망</td>\n",
       "      <td>강릉도매시장</td>\n",
       "      <td>부산광역시</td>\n",
       "      <td>특</td>\n",
       "      <td>10</td>\n",
       "      <td>176600</td>\n",
       "      <td>514.603624</td>\n",
       "      <td>90879000.0</td>\n",
       "      <td>부산광역시</td>\n",
       "      <td>10.69</td>\n",
       "      <td>2.61</td>\n",
       "      <td>154.08</td>\n",
       "      <td>3</td>\n",
       "      <td>-0.440081</td>\n",
       "      <td>2021</td>\n",
       "      <td>1</td>\n",
       "      <td>0</td>\n",
       "      <td>0</td>\n",
       "      <td>0</td>\n",
       "      <td>0</td>\n",
       "      <td>0</td>\n",
       "      <td>0</td>\n",
       "      <td>0</td>\n",
       "      <td>514.603624</td>\n",
       "    </tr>\n",
       "    <tr>\n",
       "      <th>...</th>\n",
       "      <td>...</td>\n",
       "      <td>...</td>\n",
       "      <td>...</td>\n",
       "      <td>...</td>\n",
       "      <td>...</td>\n",
       "      <td>...</td>\n",
       "      <td>...</td>\n",
       "      <td>...</td>\n",
       "      <td>...</td>\n",
       "      <td>...</td>\n",
       "      <td>...</td>\n",
       "      <td>...</td>\n",
       "      <td>...</td>\n",
       "      <td>...</td>\n",
       "      <td>...</td>\n",
       "      <td>...</td>\n",
       "      <td>...</td>\n",
       "      <td>...</td>\n",
       "      <td>...</td>\n",
       "      <td>...</td>\n",
       "      <td>...</td>\n",
       "      <td>...</td>\n",
       "      <td>...</td>\n",
       "      <td>...</td>\n",
       "      <td>...</td>\n",
       "    </tr>\n",
       "    <tr>\n",
       "      <th>17869</th>\n",
       "      <td>2022-12-01</td>\n",
       "      <td>11kg그물망</td>\n",
       "      <td>포항도매시장</td>\n",
       "      <td>제주도</td>\n",
       "      <td>특</td>\n",
       "      <td>11</td>\n",
       "      <td>42471</td>\n",
       "      <td>652.558923</td>\n",
       "      <td>27714830.0</td>\n",
       "      <td>제주도</td>\n",
       "      <td>4.16</td>\n",
       "      <td>4.26</td>\n",
       "      <td>44.25</td>\n",
       "      <td>12</td>\n",
       "      <td>-0.057677</td>\n",
       "      <td>2022</td>\n",
       "      <td>0</td>\n",
       "      <td>0</td>\n",
       "      <td>0</td>\n",
       "      <td>0</td>\n",
       "      <td>0</td>\n",
       "      <td>0</td>\n",
       "      <td>0</td>\n",
       "      <td>1</td>\n",
       "      <td>NaN</td>\n",
       "    </tr>\n",
       "    <tr>\n",
       "      <th>17870</th>\n",
       "      <td>2021-12-01</td>\n",
       "      <td>11kg그물망</td>\n",
       "      <td>포항도매시장</td>\n",
       "      <td>제주도</td>\n",
       "      <td>특</td>\n",
       "      <td>11</td>\n",
       "      <td>20207</td>\n",
       "      <td>435.274905</td>\n",
       "      <td>8795600.0</td>\n",
       "      <td>제주도</td>\n",
       "      <td>5.82</td>\n",
       "      <td>4.06</td>\n",
       "      <td>39.87</td>\n",
       "      <td>12</td>\n",
       "      <td>-0.659975</td>\n",
       "      <td>2021</td>\n",
       "      <td>0</td>\n",
       "      <td>0</td>\n",
       "      <td>0</td>\n",
       "      <td>0</td>\n",
       "      <td>0</td>\n",
       "      <td>0</td>\n",
       "      <td>0</td>\n",
       "      <td>1</td>\n",
       "      <td>NaN</td>\n",
       "    </tr>\n",
       "    <tr>\n",
       "      <th>17871</th>\n",
       "      <td>2023-12-01</td>\n",
       "      <td>12kg그물망</td>\n",
       "      <td>포항도매시장</td>\n",
       "      <td>제주도</td>\n",
       "      <td>특</td>\n",
       "      <td>12</td>\n",
       "      <td>102240</td>\n",
       "      <td>402.420188</td>\n",
       "      <td>41143440.0</td>\n",
       "      <td>제주도</td>\n",
       "      <td>6.69</td>\n",
       "      <td>3.83</td>\n",
       "      <td>123.52</td>\n",
       "      <td>12</td>\n",
       "      <td>-0.751047</td>\n",
       "      <td>2023</td>\n",
       "      <td>0</td>\n",
       "      <td>0</td>\n",
       "      <td>0</td>\n",
       "      <td>0</td>\n",
       "      <td>0</td>\n",
       "      <td>0</td>\n",
       "      <td>0</td>\n",
       "      <td>1</td>\n",
       "      <td>NaN</td>\n",
       "    </tr>\n",
       "    <tr>\n",
       "      <th>17872</th>\n",
       "      <td>2022-12-01</td>\n",
       "      <td>12kg그물망</td>\n",
       "      <td>포항도매시장</td>\n",
       "      <td>제주도</td>\n",
       "      <td>특</td>\n",
       "      <td>12</td>\n",
       "      <td>36288</td>\n",
       "      <td>500.330688</td>\n",
       "      <td>18156000.0</td>\n",
       "      <td>제주도</td>\n",
       "      <td>4.16</td>\n",
       "      <td>4.26</td>\n",
       "      <td>44.25</td>\n",
       "      <td>12</td>\n",
       "      <td>-0.479645</td>\n",
       "      <td>2022</td>\n",
       "      <td>0</td>\n",
       "      <td>0</td>\n",
       "      <td>0</td>\n",
       "      <td>0</td>\n",
       "      <td>0</td>\n",
       "      <td>0</td>\n",
       "      <td>0</td>\n",
       "      <td>1</td>\n",
       "      <td>NaN</td>\n",
       "    </tr>\n",
       "    <tr>\n",
       "      <th>17873</th>\n",
       "      <td>2021-12-01</td>\n",
       "      <td>12kg그물망</td>\n",
       "      <td>포항도매시장</td>\n",
       "      <td>제주도</td>\n",
       "      <td>특</td>\n",
       "      <td>12</td>\n",
       "      <td>23040</td>\n",
       "      <td>403.385417</td>\n",
       "      <td>9294000.0</td>\n",
       "      <td>제주도</td>\n",
       "      <td>5.82</td>\n",
       "      <td>4.06</td>\n",
       "      <td>39.87</td>\n",
       "      <td>12</td>\n",
       "      <td>-0.748371</td>\n",
       "      <td>2021</td>\n",
       "      <td>0</td>\n",
       "      <td>0</td>\n",
       "      <td>0</td>\n",
       "      <td>0</td>\n",
       "      <td>0</td>\n",
       "      <td>0</td>\n",
       "      <td>0</td>\n",
       "      <td>1</td>\n",
       "      <td>NaN</td>\n",
       "    </tr>\n",
       "  </tbody>\n",
       "</table>\n",
       "<p>15484 rows × 25 columns</p>\n",
       "</div>"
      ],
      "text/plain": [
       "             DATE     거래단위    도매시장 산지-광역시도 등급  단위_무게(kg)  1kg_물량     1kg_평균가격  \\\n",
       "2390   2024-03-01   8kg그물망  강릉도매시장     경기도  특          8     512  1304.687500   \n",
       "2391   2024-03-01   8kg파렛트  강릉도매시장     경기도  특          8    5184   969.907407   \n",
       "2392   2024-03-01   8kg그물망  강릉도매시장    경상북도  특          8     320  1250.000000   \n",
       "2393   2021-03-01   8kg그물망  강릉도매시장   부산광역시  특          8   11520   469.444444   \n",
       "2394   2021-03-01  10kg그물망  강릉도매시장   부산광역시  특         10  176600   514.603624   \n",
       "...           ...      ...     ...     ... ..        ...     ...          ...   \n",
       "17869  2022-12-01  11kg그물망  포항도매시장     제주도  특         11   42471   652.558923   \n",
       "17870  2021-12-01  11kg그물망  포항도매시장     제주도  특         11   20207   435.274905   \n",
       "17871  2023-12-01  12kg그물망  포항도매시장     제주도  특         12  102240   402.420188   \n",
       "17872  2022-12-01  12kg그물망  포항도매시장     제주도  특         12   36288   500.330688   \n",
       "17873  2021-12-01  12kg그물망  포항도매시장     제주도  특         12   23040   403.385417   \n",
       "\n",
       "       weighted_price   광역시도   평균기온  평균풍속   평균강수량  Month   z_score  Year  \\\n",
       "2390         668000.0    경기도   5.65  1.78   31.80      3  1.749984  2024   \n",
       "2391        5028000.0    경기도   5.65  1.78   31.80      3  0.821994  2024   \n",
       "2392         400000.0   경상북도   6.33  2.10   68.05      3  1.598393  2024   \n",
       "2393        5408000.0  부산광역시  10.69  2.61  154.08      3 -0.565260  2021   \n",
       "2394       90879000.0  부산광역시  10.69  2.61  154.08      3 -0.440081  2021   \n",
       "...               ...    ...    ...   ...     ...    ...       ...   ...   \n",
       "17869      27714830.0    제주도   4.16  4.26   44.25     12 -0.057677  2022   \n",
       "17870       8795600.0    제주도   5.82  4.06   39.87     12 -0.659975  2021   \n",
       "17871      41143440.0    제주도   6.69  3.83  123.52     12 -0.751047  2023   \n",
       "17872      18156000.0    제주도   4.16  4.26   44.25     12 -0.479645  2022   \n",
       "17873       9294000.0    제주도   5.82  4.06   39.87     12 -0.748371  2021   \n",
       "\n",
       "       Spring_6  Spring_7  Summer_9  Summer_8  Autumn_10  Autumn_11  Winter_3  \\\n",
       "2390          1         0         0         0          0          0         0   \n",
       "2391          1         0         0         0          0          0         0   \n",
       "2392          1         0         0         0          0          0         0   \n",
       "2393          1         0         0         0          0          0         0   \n",
       "2394          1         0         0         0          0          0         0   \n",
       "...         ...       ...       ...       ...        ...        ...       ...   \n",
       "17869         0         0         0         0          0          0         0   \n",
       "17870         0         0         0         0          0          0         0   \n",
       "17871         0         0         0         0          0          0         0   \n",
       "17872         0         0         0         0          0          0         0   \n",
       "17873         0         0         0         0          0          0         0   \n",
       "\n",
       "       Winter_4  Harvest_Target  \n",
       "2390          0     1304.687500  \n",
       "2391          0      969.907407  \n",
       "2392          0     1250.000000  \n",
       "2393          0      469.444444  \n",
       "2394          0      514.603624  \n",
       "...         ...             ...  \n",
       "17869         1             NaN  \n",
       "17870         1             NaN  \n",
       "17871         1             NaN  \n",
       "17872         1             NaN  \n",
       "17873         1             NaN  \n",
       "\n",
       "[15484 rows x 25 columns]"
      ]
     },
     "execution_count": 178,
     "metadata": {},
     "output_type": "execute_result"
    }
   ],
   "source": [
    "filtered_data"
   ]
  },
  {
   "cell_type": "markdown",
   "metadata": {},
   "source": [
    "# 타겟값에 중복 확인"
   ]
  },
  {
   "cell_type": "code",
   "execution_count": 180,
   "metadata": {},
   "outputs": [
    {
     "data": {
      "text/plain": [
       "Harvest_Target\n",
       "500.000000     200\n",
       "400.000000     129\n",
       "600.000000     111\n",
       "300.000000     107\n",
       "1000.000000     99\n",
       "              ... \n",
       "356.774194       1\n",
       "707.727273       1\n",
       "702.408027       1\n",
       "262.769231       1\n",
       "1015.148628      1\n",
       "Name: count, Length: 9930, dtype: int64"
      ]
     },
     "execution_count": 180,
     "metadata": {},
     "output_type": "execute_result"
    }
   ],
   "source": [
    "# Harvest_Target의 고유 값 개수와 분포 확인\n",
    "unique_target_values = filtered_data['Harvest_Target'].nunique()\n",
    "target_value_counts = filtered_data['Harvest_Target'].value_counts()\n",
    "\n",
    "target_value_counts"
   ]
  },
  {
   "cell_type": "code",
   "execution_count": null,
   "metadata": {},
   "outputs": [],
   "source": []
  }
 ],
 "metadata": {
  "kernelspec": {
   "display_name": "human-da-env",
   "language": "python",
   "name": "python3"
  },
  "language_info": {
   "codemirror_mode": {
    "name": "ipython",
    "version": 3
   },
   "file_extension": ".py",
   "mimetype": "text/x-python",
   "name": "python",
   "nbconvert_exporter": "python",
   "pygments_lexer": "ipython3",
   "version": "3.12.7"
  }
 },
 "nbformat": 4,
 "nbformat_minor": 2
}
