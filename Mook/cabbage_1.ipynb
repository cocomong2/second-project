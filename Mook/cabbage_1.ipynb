{
 "cells": [
  {
   "cell_type": "code",
   "execution_count": 8,
   "metadata": {},
   "outputs": [],
   "source": [
    "import pandas as pd\n",
    "import numpy as np\n",
    "import matplotlib.pyplot as plt\n",
    "import seaborn as sns"
   ]
  },
  {
   "cell_type": "code",
   "execution_count": 2,
   "metadata": {},
   "outputs": [],
   "source": [
    "cabbage_df = pd.read_csv(\"data-files/merged_df_1.csv\")"
   ]
  },
  {
   "cell_type": "code",
   "execution_count": 3,
   "metadata": {},
   "outputs": [
    {
     "name": "stdout",
     "output_type": "stream",
     "text": [
      "<class 'pandas.core.frame.DataFrame'>\n",
      "RangeIndex: 20591 entries, 0 to 20590\n",
      "Data columns (total 13 columns):\n",
      " #   Column          Non-Null Count  Dtype  \n",
      "---  ------          --------------  -----  \n",
      " 0   DATE            20591 non-null  object \n",
      " 1   거래단위            20591 non-null  object \n",
      " 2   도매시장            20591 non-null  object \n",
      " 3   산지-광역시도         20591 non-null  object \n",
      " 4   등급              20591 non-null  object \n",
      " 5   단위_무게(kg)       20591 non-null  int64  \n",
      " 6   1kg_물량          20591 non-null  int64  \n",
      " 7   1kg_평균가격        20591 non-null  float64\n",
      " 8   weighted_price  20591 non-null  float64\n",
      " 9   광역시도            20591 non-null  object \n",
      " 10  평균기온            20591 non-null  float64\n",
      " 11  평균풍속            20591 non-null  float64\n",
      " 12  평균강수량           20591 non-null  float64\n",
      "dtypes: float64(5), int64(2), object(6)\n",
      "memory usage: 2.0+ MB\n"
     ]
    }
   ],
   "source": [
    "cabbage_df.info()"
   ]
  },
  {
   "cell_type": "markdown",
   "metadata": {},
   "source": [
    "# 데이터 부족한 도매시장제거"
   ]
  },
  {
   "cell_type": "code",
   "execution_count": 4,
   "metadata": {},
   "outputs": [],
   "source": [
    "cabbage_df['DATE'] = pd.to_datetime(cabbage_df['DATE'])\n",
    "\n",
    "# Month 열을 추가하여 날짜에서 월 정보 확인\n",
    "cabbage_df['Month'] = cabbage_df['DATE'].dt.month\n",
    "\n",
    "# 각 도매시장별 월별 데이터 개수를 확인\n",
    "monthly_data_availability = cabbage_df.groupby(['도매시장', 'Month']).size().unstack(fill_value=0)\n",
    "\n",
    "# 모든 월(1월~12월)에 데이터가 존재하는 도매시장만 필터링\n",
    "sufficient_data_markets = monthly_data_availability[monthly_data_availability.min(axis=1) > 0].index\n",
    "\n",
    "# 충분한 데이터를 가진 도매시장만 포함\n",
    "filtered_cabbage_df = cabbage_df[cabbage_df['도매시장'].isin(sufficient_data_markets)]"
   ]
  },
  {
   "cell_type": "markdown",
   "metadata": {},
   "source": [
    "# 신뢰구간으로 이상치 제거"
   ]
  },
  {
   "cell_type": "code",
   "execution_count": 5,
   "metadata": {},
   "outputs": [],
   "source": [
    "# 80% 신뢰구간 (하위 10%, 상위 90%) 경계 계산\n",
    "lower_bound = filtered_cabbage_df['1kg_평균가격'].quantile(0.10)\n",
    "upper_bound = filtered_cabbage_df['1kg_평균가격'].quantile(0.90)\n",
    "\n",
    "# 80% 신뢰구간 내의 데이터만 필터링\n",
    "confidence_filtered_data_80 = filtered_cabbage_df[\n",
    "    (filtered_cabbage_df['1kg_평균가격'] >= lower_bound) & \n",
    "    (filtered_cabbage_df['1kg_평균가격'] <= upper_bound)\n",
    "]\n",
    "\n",
    "# 90% 신뢰구간 (하위 5%, 상위 95%) 경계 계산\n",
    "lower_bound_90 = filtered_cabbage_df['1kg_평균가격'].quantile(0.05)\n",
    "upper_bound_90 = filtered_cabbage_df['1kg_평균가격'].quantile(0.95)\n",
    "\n",
    "# 90% 신뢰구간 내의 데이터만 필터링\n",
    "confidence_filtered_data_90 = filtered_cabbage_df[\n",
    "    (filtered_cabbage_df['1kg_평균가격'] >= lower_bound_90) & \n",
    "    (filtered_cabbage_df['1kg_평균가격'] <= upper_bound_90)\n",
    "]\n",
    "\n"
   ]
  },
  {
   "cell_type": "code",
   "execution_count": 6,
   "metadata": {},
   "outputs": [],
   "source": [
    "# filtered_cabbage_df.to_csv(\"data-files/filtered_cabbage_df.csv\", index=False)"
   ]
  },
  {
   "cell_type": "code",
   "execution_count": null,
   "metadata": {},
   "outputs": [],
   "source": [
    "from sklearn.model_selection import train_test_split\n",
    "from sklearn.ensemble import RandomForestRegressor\n",
    "from sklearn.metrics import mean_squared_error, r2_score, mean_absolute_error\n",
    "from sklearn.preprocessing import StandardScaler\n",
    "\n",
    "# 재배 유형 정의\n",
    "cultivation_periods = {\n",
    "    \"봄재배\": {\"planting\": [3, 4, 5, 6], \"harvesting\": [6, 7]},\n",
    "    \"가을재배\": {\"planting\": [8, 9, 10], \"harvesting\": [10, 11]},\n",
    "    \"월동재배\": {\"planting\": [10, 11], \"harvesting\": [3, 4, 5]},\n",
    "    \"여름재배\": {\"planting\": [6, 7, 8], \"harvesting\": [9, 10]}\n",
    "}\n",
    "\n",
    "# 각 재배 유형에 대해 파종 및 수확 여부를 나타내는 열 추가\n",
    "for cultivation, periods in cultivation_periods.items():\n",
    "    confidence_filtered_data_80[cultivation] = (\n",
    "        confidence_filtered_data_80['Month'].isin(periods['planting'] + periods['harvesting'])\n",
    "    ).astype(int)\n",
    "\n",
    "# '도매시장' 열 원-핫 인코딩 수행\n",
    "filtered_data_80 = pd.get_dummies(confidence_filtered_data_80, columns=['도매시장'], prefix='Market')\n",
    "\n",
    "# 피처(feature)와 타겟(target) 선택\n",
    "features = [\n",
    "    '1kg_물량', '평균기온', '평균풍속', '평균강수량'\n",
    "] + list(cultivation_periods.keys()) + [col for col in filtered_data_80.columns if col.startswith('Market_')]\n",
    "X = filtered_data_80[features]\n",
    "y = filtered_data_80['1kg_평균가격']\n",
    "\n",
    "# 결측값 처리: 결측값이 포함된 행 제거\n",
    "X = X.dropna()\n",
    "y = y.loc[X.index]\n",
    "\n",
    "# 피처 스케일링: 데이터 정규화를 위해 StandardScaler 사용\n",
    "scaler = StandardScaler()\n",
    "X_scaled = scaler.fit_transform(X)\n",
    "\n",
    "# 데이터를 학습용(80%)과 테스트용(20%)으로 분리\n",
    "X_train, X_test, y_train, y_test = train_test_split(X_scaled, y, test_size=0.2, random_state=42)\n",
    "\n"
   ]
  },
  {
   "cell_type": "markdown",
   "metadata": {},
   "source": [
    "# 랜덤 포레스트"
   ]
  },
  {
   "cell_type": "code",
   "execution_count": 31,
   "metadata": {},
   "outputs": [
    {
     "data": {
      "text/plain": [
       "(np.float64(190.17654656717903),\n",
       " np.float64(90410.36107274547),\n",
       " np.float64(300.6831572814571),\n",
       " 0.43935490243867403)"
      ]
     },
     "execution_count": 31,
     "metadata": {},
     "output_type": "execute_result"
    }
   ],
   "source": [
    "# 랜덤 포레스트 모델 초기화 및 학습\n",
    "rf_model = RandomForestRegressor(random_state=42)\n",
    "rf_model.fit(X_train, y_train)\n",
    "\n",
    "# 테스트 데이터로 예측 수행\n",
    "y_pred = rf_model.predict(X_test)\n",
    "\n",
    "# 평가 지표 계산\n",
    "mae = mean_absolute_error(y_test, y_pred)\n",
    "mse = mean_squared_error(y_test, y_pred)\n",
    "rmse = np.sqrt(mse)\n",
    "r2 = r2_score(y_test, y_pred)\n",
    "\n",
    "# 평가 결과 출력\n",
    "mae, mse, rmse, r2"
   ]
  },
  {
   "cell_type": "code",
   "execution_count": 9,
   "metadata": {},
   "outputs": [
    {
     "data": {
      "text/plain": [
       "(np.float64(639.6492956891403), np.float64(0.20297687149090024))"
      ]
     },
     "execution_count": 9,
     "metadata": {},
     "output_type": "execute_result"
    }
   ],
   "source": [
    "target_mean = y.mean()\n",
    "\n",
    "mae_ratio = mae / target_mean\n",
    "\n",
    "target_mean, mae_ratio"
   ]
  },
  {
   "cell_type": "code",
   "execution_count": 10,
   "metadata": {},
   "outputs": [
    {
     "name": "stdout",
     "output_type": "stream",
     "text": [
      "Fitting 3 folds for each of 108 candidates, totalling 324 fits\n"
     ]
    },
    {
     "data": {
      "text/plain": [
       "({'max_depth': 20,\n",
       "  'min_samples_leaf': 1,\n",
       "  'min_samples_split': 10,\n",
       "  'n_estimators': 200},\n",
       " np.float64(134.99715275448781))"
      ]
     },
     "execution_count": 10,
     "metadata": {},
     "output_type": "execute_result"
    }
   ],
   "source": [
    "from sklearn.model_selection import GridSearchCV\n",
    "\n",
    "# 랜덤 포레스트 하이퍼파라미터 설정\n",
    "param_grid = {\n",
    "    'n_estimators': [50, 100, 200],  # 트리 개수\n",
    "    'max_depth': [None, 10, 20, 30],  # 최대 깊이\n",
    "    'min_samples_split': [2, 5, 10],  # 노드 분할을 위한 최소 샘플 수\n",
    "    'min_samples_leaf': [1, 2, 4]  # 리프 노드의 최소 샘플 수\n",
    "}\n",
    "\n",
    "# 랜덤 포레스트 모델 초기화\n",
    "rf_model = RandomForestRegressor(random_state=42)\n",
    "\n",
    "# GridSearchCV 설정\n",
    "grid_search = GridSearchCV(\n",
    "    estimator=rf_model,\n",
    "    param_grid=param_grid,\n",
    "    scoring='neg_mean_absolute_error',  # MAE를 최소화\n",
    "    cv=3,  # 3-폴드 교차검증\n",
    "    verbose=2,\n",
    "    n_jobs=-1  # 병렬 처리\n",
    ")\n",
    "\n",
    "# 하이퍼파라미터 튜닝 실행\n",
    "grid_search.fit(X_train, y_train)\n",
    "\n",
    "# 최적의 하이퍼파라미터 및 성능 확인\n",
    "best_params = grid_search.best_params_\n",
    "best_score = -grid_search.best_score_  # MAE는 음수로 계산되므로 부호 변환\n",
    "\n",
    "best_params, best_score\n"
   ]
  },
  {
   "cell_type": "markdown",
   "metadata": {},
   "source": [
    "# XGBoost"
   ]
  },
  {
   "cell_type": "code",
   "execution_count": 11,
   "metadata": {},
   "outputs": [
    {
     "data": {
      "text/plain": [
       "(np.float64(130.9840330954913),\n",
       " np.float64(28201.557043923094),\n",
       " np.float64(167.93319220429026),\n",
       " 0.4014227127726965)"
      ]
     },
     "execution_count": 11,
     "metadata": {},
     "output_type": "execute_result"
    }
   ],
   "source": [
    "from xgboost import XGBRegressor\n",
    "\n",
    "# 랜덤 포레스트 모델 초기화 및 학습\n",
    "xgb_model = XGBRegressor(random_state=42, objective='reg:squarederror')\n",
    "xgb_model.fit(X_train, y_train)\n",
    "\n",
    "# 테스트 데이터로 예측 수행\n",
    "y_pred = xgb_model.predict(X_test)\n",
    "\n",
    "# 평가 지표 계산\n",
    "mae = mean_absolute_error(y_test, y_pred)\n",
    "mse = mean_squared_error(y_test, y_pred)\n",
    "rmse = np.sqrt(mse)\n",
    "r2 = r2_score(y_test, y_pred)\n",
    "\n",
    "# 평가 결과 출력\n",
    "mae, mse, rmse, r2"
   ]
  },
  {
   "cell_type": "markdown",
   "metadata": {},
   "source": [
    "# 로그"
   ]
  },
  {
   "cell_type": "code",
   "execution_count": 12,
   "metadata": {},
   "outputs": [
    {
     "name": "stderr",
     "output_type": "stream",
     "text": [
      "C:\\Users\\human\\AppData\\Local\\Temp\\ipykernel_832\\3434969813.py:11: DeprecationWarning: DataFrameGroupBy.apply operated on the grouping columns. This behavior is deprecated, and in a future version of pandas the grouping columns will be excluded from the operation. Either pass `include_groups=False` to exclude the groupings or explicitly select the grouping columns after groupby to silence this warning.\n",
      "  filtered_cabbage_df_no_outliers_1 = filtered_cabbage_df.groupby(['Month', '도매시장', '산지-광역시도'], group_keys=False).apply(remove_outliers_iqr, column='1kg_평균가격')\n",
      "C:\\Users\\human\\AppData\\Local\\Temp\\ipykernel_832\\3434969813.py:16: DeprecationWarning: DataFrameGroupBy.apply operated on the grouping columns. This behavior is deprecated, and in a future version of pandas the grouping columns will be excluded from the operation. Either pass `include_groups=False` to exclude the groupings or explicitly select the grouping columns after groupby to silence this warning.\n",
      "  filtered_cabbage_df_log = filtered_cabbage_df_no_outliers_1.groupby(['Month', '도매시장', '산지-광역시도'], group_keys=False).apply(remove_outliers_iqr, column='log_1kg_평균가격')\n"
     ]
    }
   ],
   "source": [
    "# 1차: 월별, 도매시장별, 산지-광역시도별로 IQR을 이용한 이상치 제거\n",
    "def remove_outliers_iqr(group, column):\n",
    "    Q1 = group[column].quantile(0.25)\n",
    "    Q3 = group[column].quantile(0.75)\n",
    "    IQR = Q3 - Q1\n",
    "    lower_bound = Q1 - 1.5 * IQR\n",
    "    upper_bound = Q3 + 1.5 * IQR\n",
    "    return group[(group[column] >= lower_bound) & (group[column] <= upper_bound)]\n",
    "\n",
    "# 그룹화하여 1차 이상치 제거\n",
    "filtered_cabbage_df_no_outliers_1 = filtered_cabbage_df.groupby(['Month', '도매시장', '산지-광역시도'], group_keys=False).apply(remove_outliers_iqr, column='1kg_평균가격')\n",
    "\n",
    "# 2차: 로그 변환 적용 후 이상치 제거\n",
    "filtered_cabbage_df_no_outliers_1['log_1kg_평균가격'] = np.log1p(filtered_cabbage_df_no_outliers_1['1kg_평균가격'])  # 로그 변환\n",
    "\n",
    "filtered_cabbage_df_log = filtered_cabbage_df_no_outliers_1.groupby(['Month', '도매시장', '산지-광역시도'], group_keys=False).apply(remove_outliers_iqr, column='log_1kg_평균가격')\n",
    "\n"
   ]
  },
  {
   "cell_type": "code",
   "execution_count": 13,
   "metadata": {},
   "outputs": [],
   "source": [
    "from sklearn.model_selection import train_test_split\n",
    "from sklearn.ensemble import RandomForestRegressor\n",
    "from sklearn.metrics import mean_squared_error, r2_score, mean_absolute_error\n",
    "from sklearn.preprocessing import StandardScaler, MinMaxScaler\n",
    "\n",
    "# 재배 유형 정의\n",
    "cultivation_periods = {\n",
    "    \"봄재배\": {\"planting\": [3, 4, 5, 6], \"harvesting\": [6, 7]},\n",
    "    \"가을재배\": {\"planting\": [9, 10], \"harvesting\": [10, 11]},\n",
    "    \"월동재배\": {\"planting\": [9, 10, 11], \"harvesting\": [3, 4, 5]},\n",
    "    \"여름재배\": {\"planting\": [6, 7, 8], \"harvesting\": [9, 10]}\n",
    "}\n",
    "\n",
    "# 각 재배 유형에 대해 파종 및 수확 여부를 나타내는 열 추가\n",
    "for cultivation, periods in cultivation_periods.items():\n",
    "    filtered_cabbage_df_log[cultivation] = (\n",
    "        filtered_cabbage_df_log['Month'].isin(periods['planting'] + periods['harvesting'])\n",
    "    ).astype(int)\n",
    "\n",
    "# '도매시장' 열 원-핫 인코딩 수행\n",
    "filtered_data_80 = pd.get_dummies(filtered_cabbage_df_log, columns=['도매시장'], prefix='Market')\n",
    "\n",
    "# 피처(feature)와 타겟(target) 선택\n",
    "features = [\n",
    "    '1kg_물량', '평균기온', '평균풍속', '평균강수량'\n",
    "] + list(cultivation_periods.keys()) + [col for col in filtered_data_80.columns if col.startswith('Market_')]\n",
    "X = filtered_data_80[features]\n",
    "y = filtered_data_80['1kg_평균가격']\n",
    "\n",
    "# 결측값 처리: 결측값이 포함된 행 제거\n",
    "X = X.dropna()\n",
    "y = y.loc[X.index]\n",
    "\n",
    "# 피처 스케일링: 데이터 정규화를 위해 StandardScaler 사용\n",
    "scaler = StandardScaler()\n",
    "X_scaled = scaler.fit_transform(X)\n",
    "\n",
    "# 데이터를 학습용(80%)과 테스트용(20%)으로 분리\n",
    "X_train, X_test, y_train, y_test = train_test_split(X_scaled, y, test_size=0.2, random_state=42)"
   ]
  },
  {
   "cell_type": "code",
   "execution_count": 14,
   "metadata": {},
   "outputs": [
    {
     "data": {
      "text/plain": [
       "(np.float64(170.97903660002737),\n",
       " np.float64(65113.221925301885),\n",
       " np.float64(255.17292553345445),\n",
       " 0.5232280694588152)"
      ]
     },
     "execution_count": 14,
     "metadata": {},
     "output_type": "execute_result"
    }
   ],
   "source": [
    "# 랜덤 포레스트 모델 초기화 및 학습\n",
    "rf_model = RandomForestRegressor(random_state=42)\n",
    "rf_model.fit(X_train, y_train)\n",
    "\n",
    "# 테스트 데이터로 예측 수행\n",
    "y_pred = rf_model.predict(X_test)\n",
    "\n",
    "# 평가 지표 계산\n",
    "mae = mean_absolute_error(y_test, y_pred)\n",
    "mse = mean_squared_error(y_test, y_pred)\n",
    "rmse = np.sqrt(mse)\n",
    "r2 = r2_score(y_test, y_pred)\n",
    "\n",
    "# 평가 결과 출력\n",
    "mae, mse, rmse, r2"
   ]
  },
  {
   "cell_type": "markdown",
   "metadata": {},
   "source": [
    "# 1 진행중"
   ]
  },
  {
   "cell_type": "code",
   "execution_count": 3,
   "metadata": {},
   "outputs": [],
   "source": [
    "import pandas as pd\n",
    "import numpy as np\n",
    "import matplotlib.pyplot as plt\n",
    "import seaborn as sns"
   ]
  },
  {
   "cell_type": "code",
   "execution_count": 19,
   "metadata": {},
   "outputs": [],
   "source": [
    "data = pd.read_csv(\"data-files/filtered_90_percent_confidence.csv\")"
   ]
  },
  {
   "cell_type": "markdown",
   "metadata": {},
   "source": [
    "# get_dummies"
   ]
  },
  {
   "cell_type": "code",
   "execution_count": 9,
   "metadata": {},
   "outputs": [
    {
     "name": "stderr",
     "output_type": "stream",
     "text": [
      "c:\\Users\\human\\anaconda3\\envs\\human-da-env\\Lib\\site-packages\\sklearn\\metrics\\_regression.py:492: FutureWarning: 'squared' is deprecated in version 1.4 and will be removed in 1.6. To calculate the root mean squared error, use the function'root_mean_squared_error'.\n",
      "  warnings.warn(\n"
     ]
    },
    {
     "data": {
      "text/plain": [
       "{'MAE': np.float64(45.31967558998742),\n",
       " 'RMSE': np.float64(86.44003903983291),\n",
       " 'R-squared': 0.825191363641721}"
      ]
     },
     "execution_count": 9,
     "metadata": {},
     "output_type": "execute_result"
    }
   ],
   "source": [
    "from sklearn.model_selection import train_test_split\n",
    "from sklearn.ensemble import RandomForestRegressor\n",
    "from sklearn.metrics import mean_squared_error, r2_score, mean_absolute_error\n",
    "from sklearn.preprocessing import StandardScaler\n",
    "\n",
    "data['Year'] = pd.to_datetime(data['DATE']).dt.year\n",
    "\n",
    "cultivation_seasons = {\n",
    "    '봄재배': {'파종기': [3, 4], '정식기': [4, 5], '수확기': [7, 8]},\n",
    "    '가을재배': {'파종기': [7], '정식기': [8], '수확기': [10, 11]},\n",
    "    '월동재배': {'파종기': [9], '정식기': [10], '수확기': [3, 4, 5]},\n",
    "    '여름재배': {'파종기': [5, 6], '정식기': [6, 7], '수확기': [9]}\n",
    "}\n",
    "\n",
    "data['Year'] = pd.to_datetime(data['DATE']).dt.year\n",
    "\n",
    "# 결과 저장을 위한 데이터프레임 초기화\n",
    "model_data = pd.DataFrame()\n",
    "\n",
    "# 재배 방식 정보를 1 또는 0으로 표시\n",
    "for season, periods in cultivation_seasons.items():\n",
    "    # 입력 데이터 생성 (파종기 및 정식기)\n",
    "    input_data = data[data['Month'].isin(periods['파종기'] + periods['정식기'])].copy()\n",
    "    input_data[f'{season}_여부'] = 1  # 해당 재배 방식 여부를 1로 표시\n",
    "    \n",
    "    # 나머지 데이터에 대해서는 0으로 설정\n",
    "    input_data = data.assign(**{f'{season}_여부': data['Month'].apply(\n",
    "        lambda x: 1 if x in (periods['파종기'] + periods['정식기']) else 0)})\n",
    "\n",
    "    # 타겟 데이터 생성 (수확기)\n",
    "    target_data = data[data['Month'].isin(periods['수확기'])]\n",
    "    target_values = target_data.groupby(['Year', '도매시장', '산지-광역시도'])['1kg_평균가격'].mean().reset_index()\n",
    "    target_values.rename(columns={'1kg_평균가격': '타겟값'}, inplace=True)\n",
    "    \n",
    "    # 입력 데이터와 타겟 데이터 병합\n",
    "    season_data = pd.merge(input_data, target_values, on=['Year', '도매시장', '산지-광역시도'], how='inner')\n",
    "    model_data = pd.concat([model_data, season_data], ignore_index=True)\n",
    "\n",
    "# 입력 변수(X)와 타겟값(y) 분리\n",
    "X = model_data[['평균기온', '평균풍속', '평균강수량', '봄재배_여부', '여름재배_여부', '가을재배_여부', '월동재배_여부','도매시장','산지-광역시도']]\n",
    "y = model_data['타겟값']\n",
    "\n",
    "# 범주형 데이터 (도매시장, 산지-광역시도)에 대해 원-핫 인코딩\n",
    "X = pd.get_dummies(X, columns=['도매시장', '산지-광역시도'], drop_first=True)\n",
    "\n",
    "# 모델 생성 및 성능 평가\n",
    "# 데이터 분리\n",
    "X_train, X_test, y_train, y_test = train_test_split(X, y, test_size=0.2, random_state=42)\n",
    "\n",
    "# 모델 생성 및 학습\n",
    "model = RandomForestRegressor(random_state=42, n_estimators=100)\n",
    "model.fit(X_train, y_train)\n",
    "\n",
    "# 예측\n",
    "y_pred = model.predict(X_test)\n",
    "\n",
    "# 평가\n",
    "mae = mean_absolute_error(y_test, y_pred)\n",
    "rmse = mean_squared_error(y_test, y_pred, squared=False)\n",
    "r2 = r2_score(y_test, y_pred)\n",
    "\n",
    "# 결과 저장 및 표시\n",
    "performance_metrics = {\n",
    "    \"MAE\": mae,\n",
    "    \"RMSE\": rmse,\n",
    "    \"R-squared\": r2\n",
    "}\n",
    "\n",
    "performance_metrics"
   ]
  },
  {
   "cell_type": "markdown",
   "metadata": {},
   "source": [
    "# 원-핫"
   ]
  },
  {
   "cell_type": "code",
   "execution_count": 15,
   "metadata": {},
   "outputs": [
    {
     "name": "stderr",
     "output_type": "stream",
     "text": [
      "c:\\Users\\human\\anaconda3\\envs\\human-da-env\\Lib\\site-packages\\sklearn\\metrics\\_regression.py:492: FutureWarning: 'squared' is deprecated in version 1.4 and will be removed in 1.6. To calculate the root mean squared error, use the function'root_mean_squared_error'.\n",
      "  warnings.warn(\n"
     ]
    },
    {
     "data": {
      "text/plain": [
       "{'MAE': np.float64(26.394297413081553),\n",
       " 'RMSE': np.float64(68.45744360078551),\n",
       " 'R-squared': 0.8994719181902174}"
      ]
     },
     "execution_count": 15,
     "metadata": {},
     "output_type": "execute_result"
    }
   ],
   "source": [
    "# 데이터에 'Year' 열 추가\n",
    "data['Year'] = pd.to_datetime(data['DATE']).dt.year\n",
    "\n",
    "# 결과 저장을 위한 데이터프레임 초기화\n",
    "model_data = pd.DataFrame()\n",
    "\n",
    "cultivation_seasons = {\n",
    "    '봄재배': {'파종기': [3, 4], '정식기': [4, 5], '수확기': [7, 8]},\n",
    "    '가을재배': {'파종기': [7], '정식기': [8], '수확기': [10, 11]},\n",
    "    '월동재배': {'파종기': [9], '정식기': [10], '수확기': [3, 4, 5]},\n",
    "    '여름재배': {'파종기': [5, 6], '정식기': [6, 7], '수확기': [9]}\n",
    "}\n",
    "\n",
    "# 재배 방식 정보를 추가\n",
    "for season, periods in cultivation_seasons.items():\n",
    "    # 입력 데이터 생성 (파종기 및 정식기)\n",
    "    input_data = data[data['Month'].isin(periods['파종기'] + periods['정식기'])].copy()\n",
    "    input_data['재배방식'] = season  # 해당 재배 방식 추가\n",
    "    \n",
    "    # 타겟 데이터 생성 (수확기)\n",
    "    target_data = data[data['Month'].isin(periods['수확기'])]\n",
    "    target_values = target_data.groupby(['Year', '도매시장', '산지-광역시도'])['1kg_평균가격'].mean().reset_index()\n",
    "    target_values.rename(columns={'1kg_평균가격': '타겟값'}, inplace=True)\n",
    "    \n",
    "    # 입력 데이터와 타겟 데이터 병합\n",
    "    season_data = pd.merge(input_data, target_values, on=['Year', '도매시장', '산지-광역시도'], how='inner')\n",
    "    model_data = pd.concat([model_data, season_data], ignore_index=True)\n",
    "\n",
    "# 입력 변수(X)와 타겟값(y) 분리\n",
    "X = model_data[['평균기온', '평균풍속', '평균강수량', '재배방식', '도매시장', '산지-광역시도']]\n",
    "y = model_data['타겟값']\n",
    "\n",
    "# 재배 방식에 대해 원-핫 인코딩 (3개의 열 생성)\n",
    "X = pd.get_dummies(X, columns=['재배방식', '도매시장', '산지-광역시도'], drop_first=True)\n",
    "\n",
    "# 데이터 분리\n",
    "X_train, X_test, y_train, y_test = train_test_split(X, y, test_size=0.2, random_state=42)\n",
    "\n",
    "# 모델 생성 및 학습\n",
    "model = RandomForestRegressor(random_state=42, n_estimators=100)\n",
    "model.fit(X_train, y_train)\n",
    "\n",
    "# 예측\n",
    "y_pred = model.predict(X_test)\n",
    "\n",
    "# 평가\n",
    "mae = mean_absolute_error(y_test, y_pred)\n",
    "rmse = mean_squared_error(y_test, y_pred, squared=False)\n",
    "r2 = r2_score(y_test, y_pred)\n",
    "\n",
    "# 결과 저장 및 표시\n",
    "performance_metrics = {\n",
    "    \"MAE\": mae,\n",
    "    \"RMSE\": rmse,\n",
    "    \"R-squared\": r2\n",
    "}\n",
    "\n",
    "performance_metrics"
   ]
  },
  {
   "cell_type": "code",
   "execution_count": null,
   "metadata": {},
   "outputs": [],
   "source": []
  }
 ],
 "metadata": {
  "kernelspec": {
   "display_name": "human-da-env",
   "language": "python",
   "name": "python3"
  },
  "language_info": {
   "codemirror_mode": {
    "name": "ipython",
    "version": 3
   },
   "file_extension": ".py",
   "mimetype": "text/x-python",
   "name": "python",
   "nbconvert_exporter": "python",
   "pygments_lexer": "ipython3",
   "version": "3.12.7"
  }
 },
 "nbformat": 4,
 "nbformat_minor": 2
}
